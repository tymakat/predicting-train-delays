{
 "cells": [
  {
   "cell_type": "code",
   "execution_count": 1,
   "id": "37298ce0-0644-4f18-bb23-3a91ff8dfd3b",
   "metadata": {},
   "outputs": [],
   "source": [
    "import pandas as pd\n",
    "import numpy as np\n",
    "#custom script to merge entries\n",
    "import matplotlib.pyplot as plt\n",
    "from pathlib import Path  \n",
    "from utils import filter_by_column_value, plot_range_pie, count_nulls\n"
   ]
  },
  {
   "cell_type": "markdown",
   "id": "f2103bde-f64f-44d9-adec-af6c7edf375d",
   "metadata": {},
   "source": [
    "# Goals of this notebook\n",
    "\n",
    "Compute new features from stations metadata, from every available dataset, to potentially replace the stations names, with this metadata, providing the model with enough information to make good predictions without using one-hot encodings for every journey-destination pair\n",
    "\n",
    "### Added features\n",
    "1) Station busyness (from dutch stations dataset)\n",
    "2) Distance between arrival/departure stations\n",
    "3) Number of platforms? Out of scope\n",
    "4) Daily trains? Out of scope\n",
    "\n",
    "For now. Just distance between the stations and station size in one-hot encodings"
   ]
  },
  {
   "cell_type": "code",
   "execution_count": 2,
   "id": "d0b135e3-5597-453e-8176-bbc041491f3f",
   "metadata": {},
   "outputs": [],
   "source": [
    "stations = pd.read_csv('datasets/stations.csv')"
   ]
  },
  {
   "cell_type": "code",
   "execution_count": 3,
   "id": "a014763c-131a-4815-b78c-9866aeecd311",
   "metadata": {},
   "outputs": [
    {
     "data": {
      "text/html": [
       "<div>\n",
       "<style scoped>\n",
       "    .dataframe tbody tr th:only-of-type {\n",
       "        vertical-align: middle;\n",
       "    }\n",
       "\n",
       "    .dataframe tbody tr th {\n",
       "        vertical-align: top;\n",
       "    }\n",
       "\n",
       "    .dataframe thead th {\n",
       "        text-align: right;\n",
       "    }\n",
       "</style>\n",
       "<table border=\"1\" class=\"dataframe\">\n",
       "  <thead>\n",
       "    <tr style=\"text-align: right;\">\n",
       "      <th></th>\n",
       "      <th>id</th>\n",
       "      <th>code</th>\n",
       "      <th>uic</th>\n",
       "      <th>name_short</th>\n",
       "      <th>name_medium</th>\n",
       "      <th>name_long</th>\n",
       "      <th>slug</th>\n",
       "      <th>country</th>\n",
       "      <th>type</th>\n",
       "      <th>geo_lat</th>\n",
       "      <th>geo_lng</th>\n",
       "    </tr>\n",
       "  </thead>\n",
       "  <tbody>\n",
       "    <tr>\n",
       "      <th>0</th>\n",
       "      <td>266</td>\n",
       "      <td>HT</td>\n",
       "      <td>8400319</td>\n",
       "      <td>Den Bosch</td>\n",
       "      <td>'s-Hertogenbosch</td>\n",
       "      <td>'s-Hertogenbosch</td>\n",
       "      <td>s-hertogenbosch</td>\n",
       "      <td>NL</td>\n",
       "      <td>knooppuntIntercitystation</td>\n",
       "      <td>51.690480</td>\n",
       "      <td>5.293620</td>\n",
       "    </tr>\n",
       "    <tr>\n",
       "      <th>1</th>\n",
       "      <td>269</td>\n",
       "      <td>HTO</td>\n",
       "      <td>8400320</td>\n",
       "      <td>Dn Bosch O</td>\n",
       "      <td>'s-Hertogenb. O.</td>\n",
       "      <td>'s-Hertogenbosch Oost</td>\n",
       "      <td>s-hertogenbosch-oost</td>\n",
       "      <td>NL</td>\n",
       "      <td>stoptreinstation</td>\n",
       "      <td>51.700554</td>\n",
       "      <td>5.318333</td>\n",
       "    </tr>\n",
       "    <tr>\n",
       "      <th>2</th>\n",
       "      <td>227</td>\n",
       "      <td>HDE</td>\n",
       "      <td>8400388</td>\n",
       "      <td>'t Harde</td>\n",
       "      <td>'t Harde</td>\n",
       "      <td>'t Harde</td>\n",
       "      <td>t-harde</td>\n",
       "      <td>NL</td>\n",
       "      <td>stoptreinstation</td>\n",
       "      <td>52.409168</td>\n",
       "      <td>5.893611</td>\n",
       "    </tr>\n",
       "    <tr>\n",
       "      <th>3</th>\n",
       "      <td>8</td>\n",
       "      <td>AHBF</td>\n",
       "      <td>8015345</td>\n",
       "      <td>Aachen</td>\n",
       "      <td>Aachen Hbf</td>\n",
       "      <td>Aachen Hbf</td>\n",
       "      <td>aachen-hbf</td>\n",
       "      <td>D</td>\n",
       "      <td>knooppuntIntercitystation</td>\n",
       "      <td>50.767800</td>\n",
       "      <td>6.091499</td>\n",
       "    </tr>\n",
       "    <tr>\n",
       "      <th>4</th>\n",
       "      <td>818</td>\n",
       "      <td>AW</td>\n",
       "      <td>8015199</td>\n",
       "      <td>Aachen W</td>\n",
       "      <td>Aachen West</td>\n",
       "      <td>Aachen West</td>\n",
       "      <td>aachen-west</td>\n",
       "      <td>D</td>\n",
       "      <td>stoptreinstation</td>\n",
       "      <td>50.780360</td>\n",
       "      <td>6.070715</td>\n",
       "    </tr>\n",
       "  </tbody>\n",
       "</table>\n",
       "</div>"
      ],
      "text/plain": [
       "    id  code      uic  name_short       name_medium              name_long  \\\n",
       "0  266    HT  8400319   Den Bosch  's-Hertogenbosch       's-Hertogenbosch   \n",
       "1  269   HTO  8400320  Dn Bosch O  's-Hertogenb. O.  's-Hertogenbosch Oost   \n",
       "2  227   HDE  8400388    't Harde          't Harde               't Harde   \n",
       "3    8  AHBF  8015345      Aachen        Aachen Hbf             Aachen Hbf   \n",
       "4  818    AW  8015199    Aachen W       Aachen West            Aachen West   \n",
       "\n",
       "                   slug country                       type    geo_lat  \\\n",
       "0       s-hertogenbosch      NL  knooppuntIntercitystation  51.690480   \n",
       "1  s-hertogenbosch-oost      NL           stoptreinstation  51.700554   \n",
       "2               t-harde      NL           stoptreinstation  52.409168   \n",
       "3            aachen-hbf       D  knooppuntIntercitystation  50.767800   \n",
       "4           aachen-west       D           stoptreinstation  50.780360   \n",
       "\n",
       "    geo_lng  \n",
       "0  5.293620  \n",
       "1  5.318333  \n",
       "2  5.893611  \n",
       "3  6.091499  \n",
       "4  6.070715  "
      ]
     },
     "execution_count": 3,
     "metadata": {},
     "output_type": "execute_result"
    }
   ],
   "source": [
    "stations.head()"
   ]
  },
  {
   "cell_type": "code",
   "execution_count": 4,
   "id": "48efbcce-ed87-4d4e-bb35-f4cdb412f02c",
   "metadata": {},
   "outputs": [],
   "source": [
    "def plot_bar_chart(label, basic_info):\n",
    "    grouped_data = basic_info.groupby(label).size()\n",
    "    \n",
    "    # Plot the bar chart\n",
    "    grouped_data.plot(kind='bar', color='navajowhite', edgecolor='black')\n",
    "    \n",
    "    # Add labels and title\n",
    "    plt.xlabel(label)\n",
    "    plt.ylabel('Count')\n",
    "    plt.title('Distribution of ' + label)\n",
    "    \n",
    "    # Add percentages on top of each bar\n",
    "    total_count = len(basic_info)  # Total number of entries in the DataFrame\n",
    "    for i, value in enumerate(grouped_data):\n",
    "        percentage = (value / total_count) * 100\n",
    "        plt.text(i, value + 0.1, f'{percentage:.2f}%', ha='center', va='bottom', fontsize=8)\n",
    "    \n",
    "    # Show the plot\n",
    "    plt.show()"
   ]
  },
  {
   "cell_type": "code",
   "execution_count": 5,
   "id": "ae6feea5-4d5c-4c22-9312-c33bba99b9a4",
   "metadata": {},
   "outputs": [
    {
     "data": {
      "image/png": "[encoded data removed]",
      "text/plain": [
       "<Figure size 640x480 with 1 Axes>"
      ]
     },
     "metadata": {},
     "output_type": "display_data"
    }
   ],
   "source": [
    "plot_bar_chart(\"country\", stations)"
   ]
  },
  {
   "cell_type": "code",
   "execution_count": 6,
   "id": "e57b0c8a-fc1b-4990-a66f-9066083d784e",
   "metadata": {},
   "outputs": [],
   "source": [
    "stations_nl = filter_by_column_value(stations, \"country\", \"NL\")"
   ]
  },
  {
   "cell_type": "code",
   "execution_count": 7,
   "id": "af98667f-860b-47c1-a419-d5332031738f",
   "metadata": {},
   "outputs": [
    {
     "data": {
      "text/plain": [
       "397"
      ]
     },
     "execution_count": 7,
     "metadata": {},
     "output_type": "execute_result"
    }
   ],
   "source": [
    "len(stations_nl)\n",
    "#Missing 4 stations - will check if merging with main dataset will produce any null values"
   ]
  },
  {
   "cell_type": "code",
   "execution_count": 8,
   "id": "c6a57417-7b67-4f21-9828-6b3f2e2f8ee0",
   "metadata": {},
   "outputs": [
    {
     "data": {
      "image/png": "[encoded data removed]",
      "text/plain": [
       "<Figure size 640x480 with 1 Axes>"
      ]
     },
     "metadata": {},
     "output_type": "display_data"
    }
   ],
   "source": [
    "plot_bar_chart(\"type\", stations_nl)"
   ]
  },
  {
   "cell_type": "code",
   "execution_count": 9,
   "id": "e837b76a-99c4-46a7-b22f-71ddbf4d4ecd",
   "metadata": {},
   "outputs": [],
   "source": [
    "stations_mega = filter_by_column_value(stations_nl, \"type\", \"megastation\")"
   ]
  },
  {
   "cell_type": "code",
   "execution_count": 10,
   "id": "8c0f1511-9f5d-4fb2-817c-9ac1225d589a",
   "metadata": {},
   "outputs": [
    {
     "name": "stdout",
     "output_type": "stream",
     "text": [
      "      id code      uic  name_short       name_medium           name_long  \\\n",
      "30    43  ASD  8400058  Amsterdm C      Amsterdam C.  Amsterdam Centraal   \n",
      "141  214  GVC  8400282  Den Haag C       Den Haag C.   Den Haag Centraal   \n",
      "181  168  EHV  8400206  Eindhovn C      Eindhoven C.  Eindhoven Centraal   \n",
      "442  411  RTD  8400530  Rotterdm C      Rotterdam C.  Rotterdam Centraal   \n",
      "460  428  SHL  8400561    Schiphol  Schiphol Airport    Schiphol Airport   \n",
      "505  467   UT  8400621   Utrecht C        Utrecht C.    Utrecht Centraal   \n",
      "\n",
      "                   slug country         type    geo_lat   geo_lng  \n",
      "30   amsterdam-centraal      NL  megastation  52.378887  4.900278  \n",
      "141   den-haag-centraal      NL  megastation  52.080276  4.325000  \n",
      "181  eindhoven-centraal      NL  megastation  51.443333  5.481389  \n",
      "442  rotterdam-centraal      NL  megastation  51.924999  4.468889  \n",
      "460    schiphol-airport      NL  megastation  52.309444  4.761944  \n",
      "505    utrecht-centraal      NL  megastation  52.088890  5.110278  \n"
     ]
    }
   ],
   "source": [
    "print(stations_mega)"
   ]
  },
  {
   "cell_type": "code",
   "execution_count": 11,
   "id": "546ee0e1-b464-4ed0-b5df-fe30b539882e",
   "metadata": {},
   "outputs": [],
   "source": [
    "stations_nl = stations_nl.drop([\"name_short\", \"name_medium\", \"uic\", \"slug\"], axis = 1)"
   ]
  },
  {
   "cell_type": "code",
   "execution_count": 12,
   "id": "9790ad1b-afa7-4f5d-866d-50d799cc1bf3",
   "metadata": {},
   "outputs": [
    {
     "data": {
      "text/html": [
       "<div>\n",
       "<style scoped>\n",
       "    .dataframe tbody tr th:only-of-type {\n",
       "        vertical-align: middle;\n",
       "    }\n",
       "\n",
       "    .dataframe tbody tr th {\n",
       "        vertical-align: top;\n",
       "    }\n",
       "\n",
       "    .dataframe thead th {\n",
       "        text-align: right;\n",
       "    }\n",
       "</style>\n",
       "<table border=\"1\" class=\"dataframe\">\n",
       "  <thead>\n",
       "    <tr style=\"text-align: right;\">\n",
       "      <th></th>\n",
       "      <th>id</th>\n",
       "      <th>code</th>\n",
       "      <th>name_long</th>\n",
       "      <th>country</th>\n",
       "      <th>type</th>\n",
       "      <th>geo_lat</th>\n",
       "      <th>geo_lng</th>\n",
       "    </tr>\n",
       "  </thead>\n",
       "  <tbody>\n",
       "    <tr>\n",
       "      <th>0</th>\n",
       "      <td>266</td>\n",
       "      <td>HT</td>\n",
       "      <td>'s-Hertogenbosch</td>\n",
       "      <td>NL</td>\n",
       "      <td>knooppuntIntercitystation</td>\n",
       "      <td>51.690480</td>\n",
       "      <td>5.293620</td>\n",
       "    </tr>\n",
       "    <tr>\n",
       "      <th>1</th>\n",
       "      <td>269</td>\n",
       "      <td>HTO</td>\n",
       "      <td>'s-Hertogenbosch Oost</td>\n",
       "      <td>NL</td>\n",
       "      <td>stoptreinstation</td>\n",
       "      <td>51.700554</td>\n",
       "      <td>5.318333</td>\n",
       "    </tr>\n",
       "    <tr>\n",
       "      <th>2</th>\n",
       "      <td>227</td>\n",
       "      <td>HDE</td>\n",
       "      <td>'t Harde</td>\n",
       "      <td>NL</td>\n",
       "      <td>stoptreinstation</td>\n",
       "      <td>52.409168</td>\n",
       "      <td>5.893611</td>\n",
       "    </tr>\n",
       "    <tr>\n",
       "      <th>5</th>\n",
       "      <td>51</td>\n",
       "      <td>ATN</td>\n",
       "      <td>Aalten</td>\n",
       "      <td>NL</td>\n",
       "      <td>stoptreinstation</td>\n",
       "      <td>51.921327</td>\n",
       "      <td>6.578627</td>\n",
       "    </tr>\n",
       "    <tr>\n",
       "      <th>6</th>\n",
       "      <td>5</td>\n",
       "      <td>AC</td>\n",
       "      <td>Abcoude</td>\n",
       "      <td>NL</td>\n",
       "      <td>stoptreinstation</td>\n",
       "      <td>52.278500</td>\n",
       "      <td>4.977000</td>\n",
       "    </tr>\n",
       "  </tbody>\n",
       "</table>\n",
       "</div>"
      ],
      "text/plain": [
       "    id code              name_long country                       type  \\\n",
       "0  266   HT       's-Hertogenbosch      NL  knooppuntIntercitystation   \n",
       "1  269  HTO  's-Hertogenbosch Oost      NL           stoptreinstation   \n",
       "2  227  HDE               't Harde      NL           stoptreinstation   \n",
       "5   51  ATN                 Aalten      NL           stoptreinstation   \n",
       "6    5   AC                Abcoude      NL           stoptreinstation   \n",
       "\n",
       "     geo_lat   geo_lng  \n",
       "0  51.690480  5.293620  \n",
       "1  51.700554  5.318333  \n",
       "2  52.409168  5.893611  \n",
       "5  51.921327  6.578627  \n",
       "6  52.278500  4.977000  "
      ]
     },
     "execution_count": 12,
     "metadata": {},
     "output_type": "execute_result"
    }
   ],
   "source": [
    "stations_nl.head()"
   ]
  },
  {
   "cell_type": "code",
   "execution_count": 13,
   "id": "7b556099-3267-4f5c-bb12-c9ebbf9302e0",
   "metadata": {},
   "outputs": [
    {
     "name": "stdout",
     "output_type": "stream",
     "text": [
      "Nulls: 0\n"
     ]
    },
    {
     "data": {
      "text/plain": [
       "0"
      ]
     },
     "execution_count": 13,
     "metadata": {},
     "output_type": "execute_result"
    }
   ],
   "source": [
    "count_nulls(stations_nl, \"geo_lng\")"
   ]
  },
  {
   "cell_type": "code",
   "execution_count": 14,
   "id": "7c6d8a0b-3b99-4fb6-9f01-a305974f7f67",
   "metadata": {},
   "outputs": [],
   "source": [
    "stations_nl.to_csv('preprocessed_data/stations_clean_v1.csv', index=False)"
   ]
  },
  {
   "cell_type": "markdown",
   "id": "1d76601e",
   "metadata": {},
   "source": [
    "## Extra - calculate trains per station in 2024\n",
    "Calculate all trains, all entries, all train companies"
   ]
  },
  {
   "cell_type": "code",
   "execution_count": 17,
   "id": "7a29571a",
   "metadata": {},
   "outputs": [],
   "source": [
    "main_dataset_unprocessed = pd.read_csv(\"datasets/train_information_main_2024.csv\")\n"
   ]
  },
  {
   "cell_type": "code",
   "execution_count": 18,
   "id": "3d93e80a",
   "metadata": {},
   "outputs": [],
   "source": [
    "main_dataset_unprocessed = main_dataset_unprocessed.dropna(subset=[\"Stop:Station code\"])"
   ]
  },
  {
   "cell_type": "code",
   "execution_count": 21,
   "id": "713a885d",
   "metadata": {},
   "outputs": [],
   "source": [
    "station_counts = main_dataset_unprocessed[\"Stop:Station code\"].value_counts()\n",
    "\n",
    "# 2. Map counts to stations_nl, fill missing stations with 0\n",
    "stations_nl[\"Nr trains 2024\"] = stations_nl[\"code\"].map(station_counts).fillna(0).astype(int)"
   ]
  },
  {
   "cell_type": "code",
   "execution_count": 25,
   "id": "dfa58412",
   "metadata": {},
   "outputs": [
    {
     "data": {
      "text/html": [
       "<div>\n",
       "<style scoped>\n",
       "    .dataframe tbody tr th:only-of-type {\n",
       "        vertical-align: middle;\n",
       "    }\n",
       "\n",
       "    .dataframe tbody tr th {\n",
       "        vertical-align: top;\n",
       "    }\n",
       "\n",
       "    .dataframe thead th {\n",
       "        text-align: right;\n",
       "    }\n",
       "</style>\n",
       "<table border=\"1\" class=\"dataframe\">\n",
       "  <thead>\n",
       "    <tr style=\"text-align: right;\">\n",
       "      <th></th>\n",
       "      <th>id</th>\n",
       "      <th>code</th>\n",
       "      <th>name_long</th>\n",
       "      <th>country</th>\n",
       "      <th>type</th>\n",
       "      <th>geo_lat</th>\n",
       "      <th>geo_lng</th>\n",
       "      <th>Nr trains 2024</th>\n",
       "    </tr>\n",
       "  </thead>\n",
       "  <tbody>\n",
       "    <tr>\n",
       "      <th>505</th>\n",
       "      <td>467</td>\n",
       "      <td>UT</td>\n",
       "      <td>Utrecht Centraal</td>\n",
       "      <td>NL</td>\n",
       "      <td>megastation</td>\n",
       "      <td>52.088890</td>\n",
       "      <td>5.110278</td>\n",
       "      <td>478676</td>\n",
       "    </tr>\n",
       "    <tr>\n",
       "      <th>30</th>\n",
       "      <td>43</td>\n",
       "      <td>ASD</td>\n",
       "      <td>Amsterdam Centraal</td>\n",
       "      <td>NL</td>\n",
       "      <td>megastation</td>\n",
       "      <td>52.378887</td>\n",
       "      <td>4.900278</td>\n",
       "      <td>404915</td>\n",
       "    </tr>\n",
       "    <tr>\n",
       "      <th>36</th>\n",
       "      <td>50</td>\n",
       "      <td>ASS</td>\n",
       "      <td>Amsterdam Sloterdijk</td>\n",
       "      <td>NL</td>\n",
       "      <td>knooppuntIntercitystation</td>\n",
       "      <td>52.388889</td>\n",
       "      <td>4.837778</td>\n",
       "      <td>291613</td>\n",
       "    </tr>\n",
       "    <tr>\n",
       "      <th>442</th>\n",
       "      <td>411</td>\n",
       "      <td>RTD</td>\n",
       "      <td>Rotterdam Centraal</td>\n",
       "      <td>NL</td>\n",
       "      <td>megastation</td>\n",
       "      <td>51.924999</td>\n",
       "      <td>4.468889</td>\n",
       "      <td>285306</td>\n",
       "    </tr>\n",
       "    <tr>\n",
       "      <th>460</th>\n",
       "      <td>428</td>\n",
       "      <td>SHL</td>\n",
       "      <td>Schiphol Airport</td>\n",
       "      <td>NL</td>\n",
       "      <td>megastation</td>\n",
       "      <td>52.309444</td>\n",
       "      <td>4.761944</td>\n",
       "      <td>278134</td>\n",
       "    </tr>\n",
       "    <tr>\n",
       "      <th>589</th>\n",
       "      <td>532</td>\n",
       "      <td>ZL</td>\n",
       "      <td>Zwolle</td>\n",
       "      <td>NL</td>\n",
       "      <td>knooppuntIntercitystation</td>\n",
       "      <td>52.504723</td>\n",
       "      <td>6.091944</td>\n",
       "      <td>261619</td>\n",
       "    </tr>\n",
       "    <tr>\n",
       "      <th>141</th>\n",
       "      <td>214</td>\n",
       "      <td>GVC</td>\n",
       "      <td>Den Haag Centraal</td>\n",
       "      <td>NL</td>\n",
       "      <td>megastation</td>\n",
       "      <td>52.080276</td>\n",
       "      <td>4.325000</td>\n",
       "      <td>244257</td>\n",
       "    </tr>\n",
       "    <tr>\n",
       "      <th>51</th>\n",
       "      <td>6</td>\n",
       "      <td>AH</td>\n",
       "      <td>Arnhem Centraal</td>\n",
       "      <td>NL</td>\n",
       "      <td>knooppuntIntercitystation</td>\n",
       "      <td>51.985001</td>\n",
       "      <td>5.899167</td>\n",
       "      <td>234542</td>\n",
       "    </tr>\n",
       "    <tr>\n",
       "      <th>328</th>\n",
       "      <td>308</td>\n",
       "      <td>LEDN</td>\n",
       "      <td>Leiden Centraal</td>\n",
       "      <td>NL</td>\n",
       "      <td>knooppuntIntercitystation</td>\n",
       "      <td>52.166111</td>\n",
       "      <td>4.481667</td>\n",
       "      <td>230761</td>\n",
       "    </tr>\n",
       "    <tr>\n",
       "      <th>226</th>\n",
       "      <td>204</td>\n",
       "      <td>GN</td>\n",
       "      <td>Groningen</td>\n",
       "      <td>NL</td>\n",
       "      <td>knooppuntIntercitystation</td>\n",
       "      <td>53.210556</td>\n",
       "      <td>6.564722</td>\n",
       "      <td>215052</td>\n",
       "    </tr>\n",
       "    <tr>\n",
       "      <th>25</th>\n",
       "      <td>23</td>\n",
       "      <td>AMF</td>\n",
       "      <td>Amersfoort Centraal</td>\n",
       "      <td>NL</td>\n",
       "      <td>knooppuntIntercitystation</td>\n",
       "      <td>52.153889</td>\n",
       "      <td>5.370555</td>\n",
       "      <td>212008</td>\n",
       "    </tr>\n",
       "    <tr>\n",
       "      <th>221</th>\n",
       "      <td>195</td>\n",
       "      <td>GD</td>\n",
       "      <td>Gouda</td>\n",
       "      <td>NL</td>\n",
       "      <td>knooppuntIntercitystation</td>\n",
       "      <td>52.017502</td>\n",
       "      <td>4.704444</td>\n",
       "      <td>208350</td>\n",
       "    </tr>\n",
       "    <tr>\n",
       "      <th>0</th>\n",
       "      <td>266</td>\n",
       "      <td>HT</td>\n",
       "      <td>'s-Hertogenbosch</td>\n",
       "      <td>NL</td>\n",
       "      <td>knooppuntIntercitystation</td>\n",
       "      <td>51.690480</td>\n",
       "      <td>5.293620</td>\n",
       "      <td>198785</td>\n",
       "    </tr>\n",
       "    <tr>\n",
       "      <th>159</th>\n",
       "      <td>124</td>\n",
       "      <td>DDR</td>\n",
       "      <td>Dordrecht</td>\n",
       "      <td>NL</td>\n",
       "      <td>knooppuntIntercitystation</td>\n",
       "      <td>51.807220</td>\n",
       "      <td>4.668334</td>\n",
       "      <td>190503</td>\n",
       "    </tr>\n",
       "    <tr>\n",
       "      <th>181</th>\n",
       "      <td>168</td>\n",
       "      <td>EHV</td>\n",
       "      <td>Eindhoven Centraal</td>\n",
       "      <td>NL</td>\n",
       "      <td>megastation</td>\n",
       "      <td>51.443333</td>\n",
       "      <td>5.481389</td>\n",
       "      <td>169264</td>\n",
       "    </tr>\n",
       "  </tbody>\n",
       "</table>\n",
       "</div>"
      ],
      "text/plain": [
       "      id  code             name_long country                       type  \\\n",
       "505  467    UT      Utrecht Centraal      NL                megastation   \n",
       "30    43   ASD    Amsterdam Centraal      NL                megastation   \n",
       "36    50   ASS  Amsterdam Sloterdijk      NL  knooppuntIntercitystation   \n",
       "442  411   RTD    Rotterdam Centraal      NL                megastation   \n",
       "460  428   SHL      Schiphol Airport      NL                megastation   \n",
       "589  532    ZL                Zwolle      NL  knooppuntIntercitystation   \n",
       "141  214   GVC     Den Haag Centraal      NL                megastation   \n",
       "51     6    AH       Arnhem Centraal      NL  knooppuntIntercitystation   \n",
       "328  308  LEDN       Leiden Centraal      NL  knooppuntIntercitystation   \n",
       "226  204    GN             Groningen      NL  knooppuntIntercitystation   \n",
       "25    23   AMF   Amersfoort Centraal      NL  knooppuntIntercitystation   \n",
       "221  195    GD                 Gouda      NL  knooppuntIntercitystation   \n",
       "0    266    HT      's-Hertogenbosch      NL  knooppuntIntercitystation   \n",
       "159  124   DDR             Dordrecht      NL  knooppuntIntercitystation   \n",
       "181  168   EHV    Eindhoven Centraal      NL                megastation   \n",
       "\n",
       "       geo_lat   geo_lng  Nr trains 2024  \n",
       "505  52.088890  5.110278          478676  \n",
       "30   52.378887  4.900278          404915  \n",
       "36   52.388889  4.837778          291613  \n",
       "442  51.924999  4.468889          285306  \n",
       "460  52.309444  4.761944          278134  \n",
       "589  52.504723  6.091944          261619  \n",
       "141  52.080276  4.325000          244257  \n",
       "51   51.985001  5.899167          234542  \n",
       "328  52.166111  4.481667          230761  \n",
       "226  53.210556  6.564722          215052  \n",
       "25   52.153889  5.370555          212008  \n",
       "221  52.017502  4.704444          208350  \n",
       "0    51.690480  5.293620          198785  \n",
       "159  51.807220  4.668334          190503  \n",
       "181  51.443333  5.481389          169264  "
      ]
     },
     "execution_count": 25,
     "metadata": {},
     "output_type": "execute_result"
    }
   ],
   "source": [
    "stations_nl = stations_nl.sort_values(\"Nr trains 2024\", ascending=False)\n",
    "\n",
    "stations_nl.head(15)"
   ]
  },
  {
   "cell_type": "code",
   "execution_count": null,
   "id": "50c2dd36",
   "metadata": {},
   "outputs": [],
   "source": [
    "stations_nl.to_csv(\"preprocessed_data/stations_clean_v2.csv\", index=False)"
   ]
  }
 ],
 "metadata": {
  "kernelspec": {
   "display_name": "base",
   "language": "python",
   "name": "python3"
  },
  "language_info": {
   "codemirror_mode": {
    "name": "ipython",
    "version": 3
   },
   "file_extension": ".py",
   "mimetype": "text/x-python",
   "name": "python",
   "nbconvert_exporter": "python",
   "pygments_lexer": "ipython3",
   "version": "3.11.4"
  }
 },
 "nbformat": 4,
 "nbformat_minor": 5
}
