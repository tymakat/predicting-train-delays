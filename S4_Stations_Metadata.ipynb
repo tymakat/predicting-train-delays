{
 "cells": [
  {
   "cell_type": "code",
   "execution_count": 2,
   "id": "37298ce0-0644-4f18-bb23-3a91ff8dfd3b",
   "metadata": {},
   "outputs": [],
   "source": [
    "import pandas as pd\n",
    "import numpy as np\n",
    "#custom script to merge entries\n",
    "import matplotlib.pyplot as plt\n",
    "from pathlib import Path  \n",
    "from utils import filter_by_column_value, plot_range_pie, count_nulls\n"
   ]
  },
  {
   "cell_type": "markdown",
   "id": "f2103bde-f64f-44d9-adec-af6c7edf375d",
   "metadata": {},
   "source": [
    "# Goals of this notebook\n",
    "\n",
    "Compute new features from stations metadata, from every available dataset, to potentially replace the stations names, with this metadata, providing the model with enough information to make good predictions without using one-hot encodings for every journey-destination pair\n",
    "\n",
    "### Added features\n",
    "1) Station busyness (from dutch stations dataset)\n",
    "2) Distance between arrival/departure stations\n",
    "3) Number of platforms? Out of scope\n",
    "4) Daily trains? Out of scope\n",
    "\n",
    "For now. Just distance between the stations and station size in one-hot encodings"
   ]
  },
  {
   "cell_type": "code",
   "execution_count": 3,
   "id": "d0b135e3-5597-453e-8176-bbc041491f3f",
   "metadata": {},
   "outputs": [],
   "source": [
    "stations = pd.read_csv('datasets/stations.csv')"
   ]
  },
  {
   "cell_type": "code",
   "execution_count": 4,
   "id": "a014763c-131a-4815-b78c-9866aeecd311",
   "metadata": {},
   "outputs": [
    {
     "data": {
      "text/html": [
       "<div>\n",
       "<style scoped>\n",
       "    .dataframe tbody tr th:only-of-type {\n",
       "        vertical-align: middle;\n",
       "    }\n",
       "\n",
       "    .dataframe tbody tr th {\n",
       "        vertical-align: top;\n",
       "    }\n",
       "\n",
       "    .dataframe thead th {\n",
       "        text-align: right;\n",
       "    }\n",
       "</style>\n",
       "<table border=\"1\" class=\"dataframe\">\n",
       "  <thead>\n",
       "    <tr style=\"text-align: right;\">\n",
       "      <th></th>\n",
       "      <th>id</th>\n",
       "      <th>code</th>\n",
       "      <th>uic</th>\n",
       "      <th>name_short</th>\n",
       "      <th>name_medium</th>\n",
       "      <th>name_long</th>\n",
       "      <th>slug</th>\n",
       "      <th>country</th>\n",
       "      <th>type</th>\n",
       "      <th>geo_lat</th>\n",
       "      <th>geo_lng</th>\n",
       "    </tr>\n",
       "  </thead>\n",
       "  <tbody>\n",
       "    <tr>\n",
       "      <th>0</th>\n",
       "      <td>266</td>\n",
       "      <td>HT</td>\n",
       "      <td>8400319</td>\n",
       "      <td>Den Bosch</td>\n",
       "      <td>'s-Hertogenbosch</td>\n",
       "      <td>'s-Hertogenbosch</td>\n",
       "      <td>s-hertogenbosch</td>\n",
       "      <td>NL</td>\n",
       "      <td>knooppuntIntercitystation</td>\n",
       "      <td>51.690480</td>\n",
       "      <td>5.293620</td>\n",
       "    </tr>\n",
       "    <tr>\n",
       "      <th>1</th>\n",
       "      <td>269</td>\n",
       "      <td>HTO</td>\n",
       "      <td>8400320</td>\n",
       "      <td>Dn Bosch O</td>\n",
       "      <td>'s-Hertogenb. O.</td>\n",
       "      <td>'s-Hertogenbosch Oost</td>\n",
       "      <td>s-hertogenbosch-oost</td>\n",
       "      <td>NL</td>\n",
       "      <td>stoptreinstation</td>\n",
       "      <td>51.700554</td>\n",
       "      <td>5.318333</td>\n",
       "    </tr>\n",
       "    <tr>\n",
       "      <th>2</th>\n",
       "      <td>227</td>\n",
       "      <td>HDE</td>\n",
       "      <td>8400388</td>\n",
       "      <td>'t Harde</td>\n",
       "      <td>'t Harde</td>\n",
       "      <td>'t Harde</td>\n",
       "      <td>t-harde</td>\n",
       "      <td>NL</td>\n",
       "      <td>stoptreinstation</td>\n",
       "      <td>52.409168</td>\n",
       "      <td>5.893611</td>\n",
       "    </tr>\n",
       "    <tr>\n",
       "      <th>3</th>\n",
       "      <td>8</td>\n",
       "      <td>AHBF</td>\n",
       "      <td>8015345</td>\n",
       "      <td>Aachen</td>\n",
       "      <td>Aachen Hbf</td>\n",
       "      <td>Aachen Hbf</td>\n",
       "      <td>aachen-hbf</td>\n",
       "      <td>D</td>\n",
       "      <td>knooppuntIntercitystation</td>\n",
       "      <td>50.767800</td>\n",
       "      <td>6.091499</td>\n",
       "    </tr>\n",
       "    <tr>\n",
       "      <th>4</th>\n",
       "      <td>818</td>\n",
       "      <td>AW</td>\n",
       "      <td>8015199</td>\n",
       "      <td>Aachen W</td>\n",
       "      <td>Aachen West</td>\n",
       "      <td>Aachen West</td>\n",
       "      <td>aachen-west</td>\n",
       "      <td>D</td>\n",
       "      <td>stoptreinstation</td>\n",
       "      <td>50.780360</td>\n",
       "      <td>6.070715</td>\n",
       "    </tr>\n",
       "  </tbody>\n",
       "</table>\n",
       "</div>"
      ],
      "text/plain": [
       "    id  code      uic  name_short       name_medium              name_long  \\\n",
       "0  266    HT  8400319   Den Bosch  's-Hertogenbosch       's-Hertogenbosch   \n",
       "1  269   HTO  8400320  Dn Bosch O  's-Hertogenb. O.  's-Hertogenbosch Oost   \n",
       "2  227   HDE  8400388    't Harde          't Harde               't Harde   \n",
       "3    8  AHBF  8015345      Aachen        Aachen Hbf             Aachen Hbf   \n",
       "4  818    AW  8015199    Aachen W       Aachen West            Aachen West   \n",
       "\n",
       "                   slug country                       type    geo_lat  \\\n",
       "0       s-hertogenbosch      NL  knooppuntIntercitystation  51.690480   \n",
       "1  s-hertogenbosch-oost      NL           stoptreinstation  51.700554   \n",
       "2               t-harde      NL           stoptreinstation  52.409168   \n",
       "3            aachen-hbf       D  knooppuntIntercitystation  50.767800   \n",
       "4           aachen-west       D           stoptreinstation  50.780360   \n",
       "\n",
       "    geo_lng  \n",
       "0  5.293620  \n",
       "1  5.318333  \n",
       "2  5.893611  \n",
       "3  6.091499  \n",
       "4  6.070715  "
      ]
     },
     "execution_count": 4,
     "metadata": {},
     "output_type": "execute_result"
    }
   ],
   "source": [
    "stations.head()"
   ]
  },
  {
   "cell_type": "code",
   "execution_count": 5,
   "id": "48efbcce-ed87-4d4e-bb35-f4cdb412f02c",
   "metadata": {},
   "outputs": [],
   "source": [
    "def plot_bar_chart(label, basic_info):\n",
    "    grouped_data = basic_info.groupby(label).size()\n",
    "    \n",
    "    # Plot the bar chart\n",
    "    grouped_data.plot(kind='bar', color='navajowhite', edgecolor='black')\n",
    "    \n",
    "    # Add labels and title\n",
    "    plt.xlabel(label)\n",
    "    plt.ylabel('Count')\n",
    "    plt.title('Distribution of ' + label)\n",
    "    \n",
    "    # Add percentages on top of each bar\n",
    "    total_count = len(basic_info)  # Total number of entries in the DataFrame\n",
    "    for i, value in enumerate(grouped_data):\n",
    "        percentage = (value / total_count) * 100\n",
    "        plt.text(i, value + 0.1, f'{percentage:.2f}%', ha='center', va='bottom', fontsize=8)\n",
    "    \n",
    "    # Show the plot\n",
    "    plt.show()"
   ]
  },
  {
   "cell_type": "code",
   "execution_count": 6,
   "id": "ae6feea5-4d5c-4c22-9312-c33bba99b9a4",
   "metadata": {},
   "outputs": [
    {
     "data": {
      "image/png": "[encoded data removed]",
      "text/plain": [
       "<Figure size 432x288 with 1 Axes>"
      ]
     },
     "metadata": {
      "needs_background": "light"
     },
     "output_type": "display_data"
    }
   ],
   "source": [
    "plot_bar_chart(\"country\", stations)"
   ]
  },
  {
   "cell_type": "code",
   "execution_count": 7,
   "id": "e57b0c8a-fc1b-4990-a66f-9066083d784e",
   "metadata": {},
   "outputs": [],
   "source": [
    "stations_nl = filter_by_column_value(stations, \"country\", \"NL\")"
   ]
  },
  {
   "cell_type": "code",
   "execution_count": 8,
   "id": "af98667f-860b-47c1-a419-d5332031738f",
   "metadata": {},
   "outputs": [
    {
     "data": {
      "text/plain": [
       "397"
      ]
     },
     "execution_count": 8,
     "metadata": {},
     "output_type": "execute_result"
    }
   ],
   "source": [
    "len(stations_nl)\n",
    "#Missing 4 stations - will check if merging with main dataset will produce any null values"
   ]
  },
  {
   "cell_type": "code",
   "execution_count": 9,
   "id": "c6a57417-7b67-4f21-9828-6b3f2e2f8ee0",
   "metadata": {},
   "outputs": [
    {
     "data": {
      "image/png": "[encoded data removed]",
      "text/plain": [
       "<Figure size 432x288 with 1 Axes>"
      ]
     },
     "metadata": {
      "needs_background": "light"
     },
     "output_type": "display_data"
    }
   ],
   "source": [
    "plot_bar_chart(\"type\", stations_nl)"
   ]
  },
  {
   "cell_type": "code",
   "execution_count": 10,
   "id": "e837b76a-99c4-46a7-b22f-71ddbf4d4ecd",
   "metadata": {},
   "outputs": [],
   "source": [
    "stations_mega = filter_by_column_value(stations_nl, \"type\", \"megastation\")"
   ]
  },
  {
   "cell_type": "code",
   "execution_count": 11,
   "id": "8c0f1511-9f5d-4fb2-817c-9ac1225d589a",
   "metadata": {},
   "outputs": [
    {
     "name": "stdout",
     "output_type": "stream",
     "text": [
      "      id code      uic  name_short       name_medium           name_long  \\\n",
      "30    43  ASD  8400058  Amsterdm C      Amsterdam C.  Amsterdam Centraal   \n",
      "141  214  GVC  8400282  Den Haag C       Den Haag C.   Den Haag Centraal   \n",
      "181  168  EHV  8400206  Eindhovn C      Eindhoven C.  Eindhoven Centraal   \n",
      "442  411  RTD  8400530  Rotterdm C      Rotterdam C.  Rotterdam Centraal   \n",
      "460  428  SHL  8400561    Schiphol  Schiphol Airport    Schiphol Airport   \n",
      "505  467   UT  8400621   Utrecht C        Utrecht C.    Utrecht Centraal   \n",
      "\n",
      "                   slug country         type    geo_lat   geo_lng  \n",
      "30   amsterdam-centraal      NL  megastation  52.378887  4.900278  \n",
      "141   den-haag-centraal      NL  megastation  52.080276  4.325000  \n",
      "181  eindhoven-centraal      NL  megastation  51.443333  5.481389  \n",
      "442  rotterdam-centraal      NL  megastation  51.924999  4.468889  \n",
      "460    schiphol-airport      NL  megastation  52.309444  4.761944  \n",
      "505    utrecht-centraal      NL  megastation  52.088890  5.110278  \n"
     ]
    }
   ],
   "source": [
    "print(stations_mega)"
   ]
  },
  {
   "cell_type": "code",
   "execution_count": 12,
   "id": "546ee0e1-b464-4ed0-b5df-fe30b539882e",
   "metadata": {},
   "outputs": [],
   "source": [
    "stations_nl = stations_nl.drop([\"name_short\", \"name_medium\", \"uic\", \"slug\"], axis = 1)"
   ]
  },
  {
   "cell_type": "code",
   "execution_count": 13,
   "id": "9790ad1b-afa7-4f5d-866d-50d799cc1bf3",
   "metadata": {},
   "outputs": [
    {
     "data": {
      "text/html": [
       "<div>\n",
       "<style scoped>\n",
       "    .dataframe tbody tr th:only-of-type {\n",
       "        vertical-align: middle;\n",
       "    }\n",
       "\n",
       "    .dataframe tbody tr th {\n",
       "        vertical-align: top;\n",
       "    }\n",
       "\n",
       "    .dataframe thead th {\n",
       "        text-align: right;\n",
       "    }\n",
       "</style>\n",
       "<table border=\"1\" class=\"dataframe\">\n",
       "  <thead>\n",
       "    <tr style=\"text-align: right;\">\n",
       "      <th></th>\n",
       "      <th>id</th>\n",
       "      <th>code</th>\n",
       "      <th>name_long</th>\n",
       "      <th>country</th>\n",
       "      <th>type</th>\n",
       "      <th>geo_lat</th>\n",
       "      <th>geo_lng</th>\n",
       "    </tr>\n",
       "  </thead>\n",
       "  <tbody>\n",
       "    <tr>\n",
       "      <th>0</th>\n",
       "      <td>266</td>\n",
       "      <td>HT</td>\n",
       "      <td>'s-Hertogenbosch</td>\n",
       "      <td>NL</td>\n",
       "      <td>knooppuntIntercitystation</td>\n",
       "      <td>51.690480</td>\n",
       "      <td>5.293620</td>\n",
       "    </tr>\n",
       "    <tr>\n",
       "      <th>1</th>\n",
       "      <td>269</td>\n",
       "      <td>HTO</td>\n",
       "      <td>'s-Hertogenbosch Oost</td>\n",
       "      <td>NL</td>\n",
       "      <td>stoptreinstation</td>\n",
       "      <td>51.700554</td>\n",
       "      <td>5.318333</td>\n",
       "    </tr>\n",
       "    <tr>\n",
       "      <th>2</th>\n",
       "      <td>227</td>\n",
       "      <td>HDE</td>\n",
       "      <td>'t Harde</td>\n",
       "      <td>NL</td>\n",
       "      <td>stoptreinstation</td>\n",
       "      <td>52.409168</td>\n",
       "      <td>5.893611</td>\n",
       "    </tr>\n",
       "    <tr>\n",
       "      <th>5</th>\n",
       "      <td>51</td>\n",
       "      <td>ATN</td>\n",
       "      <td>Aalten</td>\n",
       "      <td>NL</td>\n",
       "      <td>stoptreinstation</td>\n",
       "      <td>51.921327</td>\n",
       "      <td>6.578627</td>\n",
       "    </tr>\n",
       "    <tr>\n",
       "      <th>6</th>\n",
       "      <td>5</td>\n",
       "      <td>AC</td>\n",
       "      <td>Abcoude</td>\n",
       "      <td>NL</td>\n",
       "      <td>stoptreinstation</td>\n",
       "      <td>52.278500</td>\n",
       "      <td>4.977000</td>\n",
       "    </tr>\n",
       "  </tbody>\n",
       "</table>\n",
       "</div>"
      ],
      "text/plain": [
       "    id code              name_long country                       type  \\\n",
       "0  266   HT       's-Hertogenbosch      NL  knooppuntIntercitystation   \n",
       "1  269  HTO  's-Hertogenbosch Oost      NL           stoptreinstation   \n",
       "2  227  HDE               't Harde      NL           stoptreinstation   \n",
       "5   51  ATN                 Aalten      NL           stoptreinstation   \n",
       "6    5   AC                Abcoude      NL           stoptreinstation   \n",
       "\n",
       "     geo_lat   geo_lng  \n",
       "0  51.690480  5.293620  \n",
       "1  51.700554  5.318333  \n",
       "2  52.409168  5.893611  \n",
       "5  51.921327  6.578627  \n",
       "6  52.278500  4.977000  "
      ]
     },
     "execution_count": 13,
     "metadata": {},
     "output_type": "execute_result"
    }
   ],
   "source": [
    "stations_nl.head()"
   ]
  },
  {
   "cell_type": "code",
   "execution_count": 16,
   "id": "7b556099-3267-4f5c-bb12-c9ebbf9302e0",
   "metadata": {},
   "outputs": [
    {
     "name": "stdout",
     "output_type": "stream",
     "text": [
      "Nulls: 0\n"
     ]
    },
    {
     "data": {
      "text/plain": [
       "0"
      ]
     },
     "execution_count": 16,
     "metadata": {},
     "output_type": "execute_result"
    }
   ],
   "source": [
    "count_nulls(stations_nl, \"geo_lng\")"
   ]
  },
  {
   "cell_type": "code",
   "execution_count": null,
   "id": "7c6d8a0b-3b99-4fb6-9f01-a305974f7f67",
   "metadata": {},
   "outputs": [],
   "source": [
    "stations_nl.to_csv('preprocessed_data/stations_clean_v1.csv', index=False)"
   ]
  },
  {
   "cell_type": "code",
   "execution_count": null,
   "id": "0add073d-6498-40d0-b8e3-03bf38619109",
   "metadata": {},
   "outputs": [],
   "source": []
  }
 ],
 "metadata": {
  "kernelspec": {
   "display_name": "Python 3 (ipykernel)",
   "language": "python",
   "name": "python3"
  },
  "language_info": {
   "codemirror_mode": {
    "name": "ipython",
    "version": 3
   },
   "file_extension": ".py",
   "mimetype": "text/x-python",
   "name": "python",
   "nbconvert_exporter": "python",
   "pygments_lexer": "ipython3",
   "version": "3.10.12"
  }
 },
 "nbformat": 4,
 "nbformat_minor": 5
}
