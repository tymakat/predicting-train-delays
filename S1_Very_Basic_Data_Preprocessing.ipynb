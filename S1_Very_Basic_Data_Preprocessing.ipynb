{
 "cells": [
  {
   "cell_type": "code",
   "execution_count": 24,
   "id": "370e2f35-5c97-4e9a-9c19-187589cff299",
   "metadata": {},
   "outputs": [],
   "source": [
    "import pandas as pd\n",
    "import numpy as np\n",
    "import tensorflow as tf\n",
    "from tensorflow import keras\n",
    "import matplotlib.pyplot as plt\n",
    "from datetime import datetime\n",
    "from datetime import date\n",
    "from pathlib import Path  \n",
    "from tqdm import tqdm"
   ]
  },
  {
   "cell_type": "markdown",
   "id": "28cdacbc-9dda-4f20-882a-c4ec040a0d58",
   "metadata": {},
   "source": [
    "## Preprocessing desc.\n",
    "This does only basic things, this is like the core to build on. Simple filtering, universal for all iterations\n",
    "\n",
    "\n",
    "### Useful info on datasets:\n",
    "- 2023-2025 have the same dataset structure. \n",
    "- Null values don't occur in entries where NS is the train operator.\n",
    "- There are some nulls in departure and arrival time, but it's just journey's beginning and end.\n",
    "- Overall, the dataset's quality is high. All 0's and nulls are intentional.\n",
    "\n",
    "### Features to remove:\n",
    "a) Maximum delay (calculates stop with the most delay on the journey) irrelevant for prediction process\n",
    "b) Date (we have much more details in arrival and departure date)\n",
    "c) Company (we only use NS)\n",
    "d) Train number (to not overcomplicate life)\n",
    "e) Arrival/Departure partially cancelled (too complicated)\n",
    "f) Planned and actual platform (we don't need it, there's a separate feature called Platform cancelled, it's more relevant)\n",
    "\n",
    "### Features to add:\n",
    "For now we don't add any features - enrichment will be done after we'll reorganize dataset into \"journeys\" with departure and arrival stations\n",
    "\n",
    "### This parts cleaning process:\n",
    "- Merge all datasets\n",
    "- Remove unnecessary features\n",
    "- NO GROUPING OF ANY KIND\n",
    "- NO FEATURE ADDING OF ANY KIND (to be added later on)\n",
    "- Limit entries to the ones which have NS as company and either sprinter or intercity as train types\n",
    "- Finally, group by journey, and add max stops for every journey (technical feature) and stop id\n"
   ]
  },
  {
   "cell_type": "code",
   "execution_count": 25,
   "id": "cbf389d1-7e4a-41dd-aa05-c6879582bf44",
   "metadata": {},
   "outputs": [],
   "source": [
    "def get_dataset_info(dataset): \n",
    "    dataset.info()"
   ]
  },
  {
   "cell_type": "code",
   "execution_count": 26,
   "id": "6574ec42-de24-4c2e-ae91-3d35b120c423",
   "metadata": {},
   "outputs": [
    {
     "name": "stdout",
     "output_type": "stream",
     "text": [
      "Num GPUs Available:  0\n"
     ]
    }
   ],
   "source": [
    "print(\"Num GPUs Available: \", len(tf.config.list_physical_devices('GPU')))"
   ]
  },
  {
   "cell_type": "code",
   "execution_count": 27,
   "id": "acf79bb3-0400-4986-85eb-2ea41ef19187",
   "metadata": {},
   "outputs": [],
   "source": [
    "# dataset_2023 = pd.read_csv('datasets/train_information_main_2023.csv') let's deal with the smaller dataset for now\n",
    "#dataset_2025_jan = pd.read_csv('datasets/train_information_main_2025-jan.csv')\n",
    "# dataset_2024 = pd.read_csv('datasets/train_information_main_2024.csv')\n",
    "#dataset_2025_feb = pd.read_csv('datasets/train_information_main_2025-feb.csv')\n",
    "#dataset_2025_mar = pd.read_csv('datasets/train_information_main_2025-mar.csv')\n",
    "dataset_2024 = pd.read_csv('datasets/train_information_main_2024.csv')\n",
    "\n",
    "one_big_merged_dataset = pd.concat([dataset_2024])"
   ]
  },
  {
   "cell_type": "code",
   "execution_count": 28,
   "id": "3ded704f-c4a5-4b53-b41b-ee9dd74bf98b",
   "metadata": {},
   "outputs": [
    {
     "name": "stdout",
     "output_type": "stream",
     "text": [
      "<class 'pandas.core.frame.DataFrame'>\n",
      "RangeIndex: 21857914 entries, 0 to 21857913\n",
      "Data columns (total 20 columns):\n",
      " #   Column                        Dtype  \n",
      "---  ------                        -----  \n",
      " 0   Service:RDT-ID                int64  \n",
      " 1   Service:Date                  object \n",
      " 2   Service:Type                  object \n",
      " 3   Service:Company               object \n",
      " 4   Service:Train number          int64  \n",
      " 5   Service:Completely cancelled  bool   \n",
      " 6   Service:Partly cancelled      bool   \n",
      " 7   Service:Maximum delay         int64  \n",
      " 8   Stop:RDT-ID                   int64  \n",
      " 9   Stop:Station code             object \n",
      " 10  Stop:Station name             object \n",
      " 11  Stop:Arrival time             object \n",
      " 12  Stop:Arrival delay            float64\n",
      " 13  Stop:Arrival cancelled        object \n",
      " 14  Stop:Departure time           object \n",
      " 15  Stop:Departure delay          float64\n",
      " 16  Stop:Departure cancelled      object \n",
      " 17  Stop:Platform change          bool   \n",
      " 18  Stop:Planned platform         object \n",
      " 19  Stop:Actual platform          object \n",
      "dtypes: bool(3), float64(2), int64(4), object(11)\n",
      "memory usage: 2.8+ GB\n"
     ]
    }
   ],
   "source": [
    "get_dataset_info(one_big_merged_dataset)"
   ]
  },
  {
   "cell_type": "code",
   "execution_count": 29,
   "id": "45c3a934-9171-4e8c-87fd-f720443c3bc4",
   "metadata": {},
   "outputs": [
    {
     "data": {
      "text/html": [
       "<div>\n",
       "<style scoped>\n",
       "    .dataframe tbody tr th:only-of-type {\n",
       "        vertical-align: middle;\n",
       "    }\n",
       "\n",
       "    .dataframe tbody tr th {\n",
       "        vertical-align: top;\n",
       "    }\n",
       "\n",
       "    .dataframe thead th {\n",
       "        text-align: right;\n",
       "    }\n",
       "</style>\n",
       "<table border=\"1\" class=\"dataframe\">\n",
       "  <thead>\n",
       "    <tr style=\"text-align: right;\">\n",
       "      <th></th>\n",
       "      <th>Service:RDT-ID</th>\n",
       "      <th>Service:Date</th>\n",
       "      <th>Service:Type</th>\n",
       "      <th>Service:Company</th>\n",
       "      <th>Service:Train number</th>\n",
       "      <th>Service:Completely cancelled</th>\n",
       "      <th>Service:Partly cancelled</th>\n",
       "      <th>Service:Maximum delay</th>\n",
       "      <th>Stop:RDT-ID</th>\n",
       "      <th>Stop:Station code</th>\n",
       "      <th>Stop:Station name</th>\n",
       "      <th>Stop:Arrival time</th>\n",
       "      <th>Stop:Arrival delay</th>\n",
       "      <th>Stop:Arrival cancelled</th>\n",
       "      <th>Stop:Departure time</th>\n",
       "      <th>Stop:Departure delay</th>\n",
       "      <th>Stop:Departure cancelled</th>\n",
       "      <th>Stop:Platform change</th>\n",
       "      <th>Stop:Planned platform</th>\n",
       "      <th>Stop:Actual platform</th>\n",
       "    </tr>\n",
       "  </thead>\n",
       "  <tbody>\n",
       "    <tr>\n",
       "      <th>0</th>\n",
       "      <td>12690865</td>\n",
       "      <td>2024-01-01</td>\n",
       "      <td>Intercity</td>\n",
       "      <td>NS</td>\n",
       "      <td>1410</td>\n",
       "      <td>False</td>\n",
       "      <td>False</td>\n",
       "      <td>2</td>\n",
       "      <td>114307592</td>\n",
       "      <td>RTD</td>\n",
       "      <td>Rotterdam Centraal</td>\n",
       "      <td>NaN</td>\n",
       "      <td>NaN</td>\n",
       "      <td>NaN</td>\n",
       "      <td>2024-01-01T02:00:00+01:00</td>\n",
       "      <td>0.0</td>\n",
       "      <td>False</td>\n",
       "      <td>False</td>\n",
       "      <td>9</td>\n",
       "      <td>9</td>\n",
       "    </tr>\n",
       "    <tr>\n",
       "      <th>1</th>\n",
       "      <td>12690865</td>\n",
       "      <td>2024-01-01</td>\n",
       "      <td>Intercity</td>\n",
       "      <td>NS</td>\n",
       "      <td>1410</td>\n",
       "      <td>False</td>\n",
       "      <td>False</td>\n",
       "      <td>0</td>\n",
       "      <td>114307593</td>\n",
       "      <td>DT</td>\n",
       "      <td>Delft</td>\n",
       "      <td>2024-01-01T02:13:00+01:00</td>\n",
       "      <td>0.0</td>\n",
       "      <td>False</td>\n",
       "      <td>2024-01-01T02:13:00+01:00</td>\n",
       "      <td>0.0</td>\n",
       "      <td>False</td>\n",
       "      <td>False</td>\n",
       "      <td>1</td>\n",
       "      <td>1</td>\n",
       "    </tr>\n",
       "    <tr>\n",
       "      <th>2</th>\n",
       "      <td>12690865</td>\n",
       "      <td>2024-01-01</td>\n",
       "      <td>Intercity</td>\n",
       "      <td>NS</td>\n",
       "      <td>1410</td>\n",
       "      <td>False</td>\n",
       "      <td>False</td>\n",
       "      <td>0</td>\n",
       "      <td>114307594</td>\n",
       "      <td>GV</td>\n",
       "      <td>Den Haag HS</td>\n",
       "      <td>2024-01-01T02:21:00+01:00</td>\n",
       "      <td>0.0</td>\n",
       "      <td>False</td>\n",
       "      <td>2024-01-01T02:22:00+01:00</td>\n",
       "      <td>0.0</td>\n",
       "      <td>False</td>\n",
       "      <td>False</td>\n",
       "      <td>6</td>\n",
       "      <td>6</td>\n",
       "    </tr>\n",
       "    <tr>\n",
       "      <th>3</th>\n",
       "      <td>12690865</td>\n",
       "      <td>2024-01-01</td>\n",
       "      <td>Intercity</td>\n",
       "      <td>NS</td>\n",
       "      <td>1410</td>\n",
       "      <td>False</td>\n",
       "      <td>False</td>\n",
       "      <td>0</td>\n",
       "      <td>114307595</td>\n",
       "      <td>LEDN</td>\n",
       "      <td>Leiden Centraal</td>\n",
       "      <td>2024-01-01T02:35:00+01:00</td>\n",
       "      <td>0.0</td>\n",
       "      <td>False</td>\n",
       "      <td>2024-01-01T02:40:00+01:00</td>\n",
       "      <td>0.0</td>\n",
       "      <td>False</td>\n",
       "      <td>True</td>\n",
       "      <td>5b</td>\n",
       "      <td>8b</td>\n",
       "    </tr>\n",
       "    <tr>\n",
       "      <th>4</th>\n",
       "      <td>12690865</td>\n",
       "      <td>2024-01-01</td>\n",
       "      <td>Intercity</td>\n",
       "      <td>NS</td>\n",
       "      <td>1410</td>\n",
       "      <td>False</td>\n",
       "      <td>False</td>\n",
       "      <td>0</td>\n",
       "      <td>114307596</td>\n",
       "      <td>SHL</td>\n",
       "      <td>Schiphol Airport</td>\n",
       "      <td>2024-01-01T03:00:00+01:00</td>\n",
       "      <td>0.0</td>\n",
       "      <td>False</td>\n",
       "      <td>2024-01-01T03:03:00+01:00</td>\n",
       "      <td>0.0</td>\n",
       "      <td>False</td>\n",
       "      <td>False</td>\n",
       "      <td>3</td>\n",
       "      <td>3</td>\n",
       "    </tr>\n",
       "  </tbody>\n",
       "</table>\n",
       "</div>"
      ],
      "text/plain": [
       "   Service:RDT-ID Service:Date Service:Type Service:Company  \\\n",
       "0        12690865   2024-01-01    Intercity              NS   \n",
       "1        12690865   2024-01-01    Intercity              NS   \n",
       "2        12690865   2024-01-01    Intercity              NS   \n",
       "3        12690865   2024-01-01    Intercity              NS   \n",
       "4        12690865   2024-01-01    Intercity              NS   \n",
       "\n",
       "   Service:Train number  Service:Completely cancelled  \\\n",
       "0                  1410                         False   \n",
       "1                  1410                         False   \n",
       "2                  1410                         False   \n",
       "3                  1410                         False   \n",
       "4                  1410                         False   \n",
       "\n",
       "   Service:Partly cancelled  Service:Maximum delay  Stop:RDT-ID  \\\n",
       "0                     False                      2    114307592   \n",
       "1                     False                      0    114307593   \n",
       "2                     False                      0    114307594   \n",
       "3                     False                      0    114307595   \n",
       "4                     False                      0    114307596   \n",
       "\n",
       "  Stop:Station code   Stop:Station name          Stop:Arrival time  \\\n",
       "0               RTD  Rotterdam Centraal                        NaN   \n",
       "1                DT               Delft  2024-01-01T02:13:00+01:00   \n",
       "2                GV         Den Haag HS  2024-01-01T02:21:00+01:00   \n",
       "3              LEDN     Leiden Centraal  2024-01-01T02:35:00+01:00   \n",
       "4               SHL    Schiphol Airport  2024-01-01T03:00:00+01:00   \n",
       "\n",
       "   Stop:Arrival delay Stop:Arrival cancelled        Stop:Departure time  \\\n",
       "0                 NaN                    NaN  2024-01-01T02:00:00+01:00   \n",
       "1                 0.0                  False  2024-01-01T02:13:00+01:00   \n",
       "2                 0.0                  False  2024-01-01T02:22:00+01:00   \n",
       "3                 0.0                  False  2024-01-01T02:40:00+01:00   \n",
       "4                 0.0                  False  2024-01-01T03:03:00+01:00   \n",
       "\n",
       "   Stop:Departure delay Stop:Departure cancelled  Stop:Platform change  \\\n",
       "0                   0.0                    False                 False   \n",
       "1                   0.0                    False                 False   \n",
       "2                   0.0                    False                 False   \n",
       "3                   0.0                    False                  True   \n",
       "4                   0.0                    False                 False   \n",
       "\n",
       "  Stop:Planned platform Stop:Actual platform  \n",
       "0                     9                    9  \n",
       "1                     1                    1  \n",
       "2                     6                    6  \n",
       "3                    5b                   8b  \n",
       "4                     3                    3  "
      ]
     },
     "execution_count": 29,
     "metadata": {},
     "output_type": "execute_result"
    }
   ],
   "source": [
    "one_big_merged_dataset.head()"
   ]
  },
  {
   "cell_type": "code",
   "execution_count": 30,
   "id": "74e16beb-5693-4821-8de3-1f5a6adceff8",
   "metadata": {},
   "outputs": [],
   "source": [
    "bad_ids = one_big_merged_dataset.loc[\n",
    "    ~(\n",
    "        (one_big_merged_dataset['Service:Company'] == 'NS') &\n",
    "        (one_big_merged_dataset['Service:Type'].isin(['Sprinter', 'Intercity']))\n",
    "    ),\n",
    "    'Service:RDT-ID'\n",
    "].unique()\n",
    "\n",
    "one_big_merged_dataset = one_big_merged_dataset[\n",
    "    ~one_big_merged_dataset['Service:RDT-ID'].isin(bad_ids)\n",
    "]"
   ]
  },
  {
   "cell_type": "code",
   "execution_count": 31,
   "id": "efe5c70c-1a2c-4ea8-b536-38d76bae12e1",
   "metadata": {},
   "outputs": [],
   "source": [
    "def column_null_overview(df: pd.DataFrame):\n",
    "    null_counts = (df.isna() | df.eq('')).sum()   # vectorised, very fast\n",
    "    overview = null_counts.to_dict()\n",
    "    print(overview)\n",
    "    return overview"
   ]
  },
  {
   "cell_type": "code",
   "execution_count": 32,
   "id": "c1ed76e8-4575-4e99-bd89-03cf9907fe2d",
   "metadata": {},
   "outputs": [
    {
     "name": "stdout",
     "output_type": "stream",
     "text": [
      "{'Service:RDT-ID': 0, 'Service:Date': 0, 'Service:Type': 0, 'Service:Company': 0, 'Service:Train number': 0, 'Service:Completely cancelled': 0, 'Service:Partly cancelled': 0, 'Service:Maximum delay': 0, 'Stop:RDT-ID': 0, 'Stop:Station code': 0, 'Stop:Station name': 0, 'Stop:Arrival time': 1271556, 'Stop:Arrival delay': 1271556, 'Stop:Arrival cancelled': 1271556, 'Stop:Departure time': 1272005, 'Stop:Departure delay': 1272005, 'Stop:Departure cancelled': 1272005, 'Stop:Platform change': 0, 'Stop:Planned platform': 629770, 'Stop:Actual platform': 629770}\n"
     ]
    },
    {
     "data": {
      "text/plain": [
       "{'Service:RDT-ID': 0,\n",
       " 'Service:Date': 0,\n",
       " 'Service:Type': 0,\n",
       " 'Service:Company': 0,\n",
       " 'Service:Train number': 0,\n",
       " 'Service:Completely cancelled': 0,\n",
       " 'Service:Partly cancelled': 0,\n",
       " 'Service:Maximum delay': 0,\n",
       " 'Stop:RDT-ID': 0,\n",
       " 'Stop:Station code': 0,\n",
       " 'Stop:Station name': 0,\n",
       " 'Stop:Arrival time': 1271556,\n",
       " 'Stop:Arrival delay': 1271556,\n",
       " 'Stop:Arrival cancelled': 1271556,\n",
       " 'Stop:Departure time': 1272005,\n",
       " 'Stop:Departure delay': 1272005,\n",
       " 'Stop:Departure cancelled': 1272005,\n",
       " 'Stop:Platform change': 0,\n",
       " 'Stop:Planned platform': 629770,\n",
       " 'Stop:Actual platform': 629770}"
      ]
     },
     "execution_count": 32,
     "metadata": {},
     "output_type": "execute_result"
    }
   ],
   "source": [
    "column_null_overview(one_big_merged_dataset)"
   ]
  },
  {
   "cell_type": "code",
   "execution_count": 33,
   "id": "39c3039c-5cb1-4586-bceb-91ecdf95c1e6",
   "metadata": {},
   "outputs": [],
   "source": [
    "def remove_unnecessary_features(df):\n",
    "    columns_to_remove = [\n",
    "        'Service:Maximum delay',\n",
    "        'Service:Date',\n",
    "        'Service:Company',\n",
    "        'Service:Train number',\n",
    "        'Service:Partly cancelled',\n",
    "        \"Stop:Planned platform\",\n",
    "        \"Stop:Actual platform\"\n",
    "    ]\n",
    "\n",
    "    # Ensure only existing columns are removed\n",
    "    columns_to_remove = [col for col in columns_to_remove if col in df.columns]\n",
    "\n",
    "    # Drop the columns\n",
    "    cleaned_df = df.drop(columns=columns_to_remove)\n",
    "\n",
    "    return cleaned_df\n"
   ]
  },
  {
   "cell_type": "code",
   "execution_count": 34,
   "id": "272af916-4e66-402c-9831-1cbd87a1bee9",
   "metadata": {},
   "outputs": [],
   "source": [
    "one_big_merged_dataset = remove_unnecessary_features(one_big_merged_dataset)"
   ]
  },
  {
   "cell_type": "code",
   "execution_count": 35,
   "id": "16cee550-061c-4d2c-86f1-35e2b7ce9ac0",
   "metadata": {},
   "outputs": [],
   "source": [
    "def empty_values_sorting(dataset):\n",
    "    mask = dataset[\"Stop:Arrival delay\"].isna()\n",
    "    dataset.loc[mask, \"Stop:Arrival delay\"] = 0\n",
    "    mask = dataset[\"Stop:Departure delay\"].isna()\n",
    "    dataset.loc[mask, \"Stop:Departure delay\"] = 0\n",
    "    mask = dataset[\"Stop:Departure cancelled\"].isna()\n",
    "    dataset.loc[mask, \"Stop:Departure cancelled\"] = False\n",
    "    mask = dataset[\"Stop:Arrival cancelled\"].isna()\n",
    "    dataset.loc[mask, \"Stop:Arrival cancelled\"] = False\n",
    "    return dataset"
   ]
  },
  {
   "cell_type": "code",
   "execution_count": 36,
   "id": "96160685-5d1d-4056-bdee-73e815c2ed4e",
   "metadata": {},
   "outputs": [],
   "source": [
    "one_big_merged_dataset = empty_values_sorting(one_big_merged_dataset)"
   ]
  },
  {
   "cell_type": "code",
   "execution_count": 37,
   "id": "572bc84e-5d0d-4015-ad7c-3f605011b772",
   "metadata": {},
   "outputs": [],
   "source": [
    "def plot_bar_chart(label, basic_info):\n",
    "    grouped_data = basic_info.groupby(label).size()\n",
    "    \n",
    "    # Plot the bar chart\n",
    "    grouped_data.plot(kind='bar', color='navajowhite', edgecolor='black')\n",
    "    \n",
    "    # Add labels and title\n",
    "    plt.xlabel(label)\n",
    "    plt.ylabel('Count')\n",
    "    plt.title('Distribution of ' + label)\n",
    "    \n",
    "    # Add percentages on top of each bar\n",
    "    total_count = len(basic_info)  # Total number of entries in the DataFrame\n",
    "    for i, value in enumerate(grouped_data):\n",
    "        percentage = (value / total_count) * 100\n",
    "        plt.text(i, value + 0.1, f'{percentage:.2f}%', ha='center', va='bottom', fontsize=8)\n",
    "    \n",
    "    # Show the plot\n",
    "    plt.show()"
   ]
  },
  {
   "cell_type": "code",
   "execution_count": 38,
   "id": "ca6f2307-856b-4a2e-ac3c-0931738e9be4",
   "metadata": {},
   "outputs": [
    {
     "data": {
      "image/png": "[encoded data removed]",
      "text/plain": [
       "<Figure size 640x480 with 1 Axes>"
      ]
     },
     "metadata": {},
     "output_type": "display_data"
    }
   ],
   "source": [
    "plot_bar_chart(\"Service:Type\", one_big_merged_dataset)"
   ]
  },
  {
   "cell_type": "code",
   "execution_count": 39,
   "id": "4620bec9-f833-4db3-9ea0-30c71bbd0db1",
   "metadata": {},
   "outputs": [
    {
     "data": {
      "image/png": "[encoded data removed]",
      "text/plain": [
       "<Figure size 640x480 with 1 Axes>"
      ]
     },
     "metadata": {},
     "output_type": "display_data"
    }
   ],
   "source": [
    "def plot_nas(df: pd.DataFrame):\n",
    "    if df.isnull().sum().sum() != 0:\n",
    "        na_df = (df.isnull().sum() / len(df)) * 100      \n",
    "        na_df = na_df.drop(na_df[na_df == 0].index).sort_values(ascending=False)\n",
    "        missing_data = pd.DataFrame({'Missing Ratio %' :na_df})\n",
    "        missing_data.plot(kind = \"barh\")\n",
    "        plt.show()\n",
    "    else:\n",
    "        print('No NAs found')\n",
    "plot_nas(one_big_merged_dataset)"
   ]
  },
  {
   "cell_type": "code",
   "execution_count": 40,
   "id": "240b13e1-39d4-4f1d-a349-050a770abf73",
   "metadata": {},
   "outputs": [
    {
     "data": {
      "text/html": [
       "<div>\n",
       "<style scoped>\n",
       "    .dataframe tbody tr th:only-of-type {\n",
       "        vertical-align: middle;\n",
       "    }\n",
       "\n",
       "    .dataframe tbody tr th {\n",
       "        vertical-align: top;\n",
       "    }\n",
       "\n",
       "    .dataframe thead th {\n",
       "        text-align: right;\n",
       "    }\n",
       "</style>\n",
       "<table border=\"1\" class=\"dataframe\">\n",
       "  <thead>\n",
       "    <tr style=\"text-align: right;\">\n",
       "      <th></th>\n",
       "      <th>Service:RDT-ID</th>\n",
       "      <th>Service:Type</th>\n",
       "      <th>Service:Completely cancelled</th>\n",
       "      <th>Stop:RDT-ID</th>\n",
       "      <th>Stop:Station code</th>\n",
       "      <th>Stop:Station name</th>\n",
       "      <th>Stop:Arrival time</th>\n",
       "      <th>Stop:Arrival delay</th>\n",
       "      <th>Stop:Arrival cancelled</th>\n",
       "      <th>Stop:Departure time</th>\n",
       "      <th>Stop:Departure delay</th>\n",
       "      <th>Stop:Departure cancelled</th>\n",
       "      <th>Stop:Platform change</th>\n",
       "    </tr>\n",
       "  </thead>\n",
       "  <tbody>\n",
       "    <tr>\n",
       "      <th>0</th>\n",
       "      <td>12690865</td>\n",
       "      <td>Intercity</td>\n",
       "      <td>False</td>\n",
       "      <td>114307592</td>\n",
       "      <td>RTD</td>\n",
       "      <td>Rotterdam Centraal</td>\n",
       "      <td>NaN</td>\n",
       "      <td>0.0</td>\n",
       "      <td>False</td>\n",
       "      <td>2024-01-01T02:00:00+01:00</td>\n",
       "      <td>0.0</td>\n",
       "      <td>False</td>\n",
       "      <td>False</td>\n",
       "    </tr>\n",
       "    <tr>\n",
       "      <th>1</th>\n",
       "      <td>12690865</td>\n",
       "      <td>Intercity</td>\n",
       "      <td>False</td>\n",
       "      <td>114307593</td>\n",
       "      <td>DT</td>\n",
       "      <td>Delft</td>\n",
       "      <td>2024-01-01T02:13:00+01:00</td>\n",
       "      <td>0.0</td>\n",
       "      <td>False</td>\n",
       "      <td>2024-01-01T02:13:00+01:00</td>\n",
       "      <td>0.0</td>\n",
       "      <td>False</td>\n",
       "      <td>False</td>\n",
       "    </tr>\n",
       "    <tr>\n",
       "      <th>2</th>\n",
       "      <td>12690865</td>\n",
       "      <td>Intercity</td>\n",
       "      <td>False</td>\n",
       "      <td>114307594</td>\n",
       "      <td>GV</td>\n",
       "      <td>Den Haag HS</td>\n",
       "      <td>2024-01-01T02:21:00+01:00</td>\n",
       "      <td>0.0</td>\n",
       "      <td>False</td>\n",
       "      <td>2024-01-01T02:22:00+01:00</td>\n",
       "      <td>0.0</td>\n",
       "      <td>False</td>\n",
       "      <td>False</td>\n",
       "    </tr>\n",
       "    <tr>\n",
       "      <th>3</th>\n",
       "      <td>12690865</td>\n",
       "      <td>Intercity</td>\n",
       "      <td>False</td>\n",
       "      <td>114307595</td>\n",
       "      <td>LEDN</td>\n",
       "      <td>Leiden Centraal</td>\n",
       "      <td>2024-01-01T02:35:00+01:00</td>\n",
       "      <td>0.0</td>\n",
       "      <td>False</td>\n",
       "      <td>2024-01-01T02:40:00+01:00</td>\n",
       "      <td>0.0</td>\n",
       "      <td>False</td>\n",
       "      <td>True</td>\n",
       "    </tr>\n",
       "    <tr>\n",
       "      <th>4</th>\n",
       "      <td>12690865</td>\n",
       "      <td>Intercity</td>\n",
       "      <td>False</td>\n",
       "      <td>114307596</td>\n",
       "      <td>SHL</td>\n",
       "      <td>Schiphol Airport</td>\n",
       "      <td>2024-01-01T03:00:00+01:00</td>\n",
       "      <td>0.0</td>\n",
       "      <td>False</td>\n",
       "      <td>2024-01-01T03:03:00+01:00</td>\n",
       "      <td>0.0</td>\n",
       "      <td>False</td>\n",
       "      <td>False</td>\n",
       "    </tr>\n",
       "  </tbody>\n",
       "</table>\n",
       "</div>"
      ],
      "text/plain": [
       "   Service:RDT-ID Service:Type  Service:Completely cancelled  Stop:RDT-ID  \\\n",
       "0        12690865    Intercity                         False    114307592   \n",
       "1        12690865    Intercity                         False    114307593   \n",
       "2        12690865    Intercity                         False    114307594   \n",
       "3        12690865    Intercity                         False    114307595   \n",
       "4        12690865    Intercity                         False    114307596   \n",
       "\n",
       "  Stop:Station code   Stop:Station name          Stop:Arrival time  \\\n",
       "0               RTD  Rotterdam Centraal                        NaN   \n",
       "1                DT               Delft  2024-01-01T02:13:00+01:00   \n",
       "2                GV         Den Haag HS  2024-01-01T02:21:00+01:00   \n",
       "3              LEDN     Leiden Centraal  2024-01-01T02:35:00+01:00   \n",
       "4               SHL    Schiphol Airport  2024-01-01T03:00:00+01:00   \n",
       "\n",
       "   Stop:Arrival delay Stop:Arrival cancelled        Stop:Departure time  \\\n",
       "0                 0.0                  False  2024-01-01T02:00:00+01:00   \n",
       "1                 0.0                  False  2024-01-01T02:13:00+01:00   \n",
       "2                 0.0                  False  2024-01-01T02:22:00+01:00   \n",
       "3                 0.0                  False  2024-01-01T02:40:00+01:00   \n",
       "4                 0.0                  False  2024-01-01T03:03:00+01:00   \n",
       "\n",
       "   Stop:Departure delay Stop:Departure cancelled  Stop:Platform change  \n",
       "0                   0.0                    False                 False  \n",
       "1                   0.0                    False                 False  \n",
       "2                   0.0                    False                 False  \n",
       "3                   0.0                    False                  True  \n",
       "4                   0.0                    False                 False  "
      ]
     },
     "execution_count": 40,
     "metadata": {},
     "output_type": "execute_result"
    }
   ],
   "source": [
    "one_big_merged_dataset.head()"
   ]
  },
  {
   "cell_type": "code",
   "execution_count": 41,
   "id": "a2e72ea4-bd71-4b7e-a1e1-ca4a79fade76",
   "metadata": {},
   "outputs": [
    {
     "name": "stdout",
     "output_type": "stream",
     "text": [
      "13613841\n"
     ]
    }
   ],
   "source": [
    "print(len(one_big_merged_dataset))"
   ]
  },
  {
   "cell_type": "code",
   "execution_count": 42,
   "id": "43bc9144-deb9-4854-8e15-4eacd319d3cb",
   "metadata": {},
   "outputs": [
    {
     "name": "stdout",
     "output_type": "stream",
     "text": [
      "1266257\n"
     ]
    }
   ],
   "source": [
    "print(one_big_merged_dataset['Service:RDT-ID'].nunique())\n"
   ]
  },
  {
   "cell_type": "code",
   "execution_count": 43,
   "id": "3349860c-9ad1-4520-b471-62ff3d026502",
   "metadata": {},
   "outputs": [],
   "source": [
    "one_big_merged_dataset.drop(\"Stop:RDT-ID\", inplace = True, axis = 1)\n",
    "one_big_merged_dataset['Stop:Number'] = one_big_merged_dataset.groupby('Service:RDT-ID').cumcount() + 1\n",
    "one_big_merged_dataset['Technical:Max-Stop-Num'] = (\n",
    "    one_big_merged_dataset.groupby('Service:RDT-ID')['Stop:Number'].transform('max')\n",
    ")"
   ]
  },
  {
   "cell_type": "code",
   "execution_count": 44,
   "id": "e66f1e6a-2cd3-4e39-946b-05947322af25",
   "metadata": {},
   "outputs": [],
   "source": [
    "one_big_merged_dataset.to_csv('preprocessed_data/basic_preprocessed_light.csv', index=False)"
   ]
  },
  {
   "cell_type": "code",
   "execution_count": 45,
   "id": "8a643de2-7849-430a-b671-1344a2b90558",
   "metadata": {},
   "outputs": [
    {
     "data": {
      "text/plain": [
       "13613841"
      ]
     },
     "execution_count": 45,
     "metadata": {},
     "output_type": "execute_result"
    }
   ],
   "source": [
    "len(one_big_merged_dataset)"
   ]
  },
  {
   "cell_type": "code",
   "execution_count": null,
   "id": "44b86d14-3855-431e-aa2e-20dca573cb3a",
   "metadata": {},
   "outputs": [],
   "source": []
  }
 ],
 "metadata": {
  "kernelspec": {
   "display_name": "base",
   "language": "python",
   "name": "python3"
  },
  "language_info": {
   "codemirror_mode": {
    "name": "ipython",
    "version": 3
   },
   "file_extension": ".py",
   "mimetype": "text/x-python",
   "name": "python",
   "nbconvert_exporter": "python",
   "pygments_lexer": "ipython3",
   "version": "3.11.4"
  }
 },
 "nbformat": 4,
 "nbformat_minor": 5
}
