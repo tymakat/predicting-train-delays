{
 "cells": [
  {
   "cell_type": "code",
   "execution_count": 1,
   "id": "6f534ca6-c48d-482a-9627-db99932eca21",
   "metadata": {},
   "outputs": [],
   "source": [
    "import pandas as pd\n",
    "import numpy as np\n",
    "#custom script to merge entries\n",
    "import merging\n",
    "import matplotlib.pyplot as plt\n",
    "from datetime import datetime\n",
    "import multiprocessing\n",
    "from multiprocessing import Pool, cpu_count\n",
    "import queue # imported for using queue.Empty exception\n",
    "from datetime import date\n",
    "from pathlib import Path  \n",
    "from multiprocessing import Process, Lock\n"
   ]
  },
  {
   "cell_type": "markdown",
   "id": "7510d174-385a-488f-a4c0-3d939a28d7b5",
   "metadata": {},
   "source": [
    "## Performing the grouping\n",
    "Service RDT ID indicates the unique journey.\n",
    "Stop:RDT ID Indicates the unique stop.\n",
    "\n",
    "We need to merge the entries to form journeys - where the train was going to and from.\n",
    "\n",
    "### Dataset observations:\n",
    "\n",
    "- Most of null occurencies in arrival date (324k == 99%) are on first stop\n",
    "- However there are 169 cases where it's not a first, but some other stop\n",
    "- Let's analyze the delays - will keeping those entries be valuable? Perhaps they are an important piece of data?"
   ]
  },
  {
   "cell_type": "code",
   "execution_count": 2,
   "id": "43a00c54-db47-4a7f-8298-41cc717bf035",
   "metadata": {},
   "outputs": [],
   "source": [
    "dataset_pre = pd.read_csv('preprocessed_data/basic_preprocessed_light.csv')"
   ]
  },
  {
   "cell_type": "code",
   "execution_count": 3,
   "id": "533ff02f-f5df-4abe-90c7-729946ac4051",
   "metadata": {},
   "outputs": [],
   "source": [
    "dataset_pre.loc[dataset_pre[\"Stop:Arrival cancelled\"] == True, \"Stop:Arrival delay\"] = 1000\n",
    "dataset_pre.loc[dataset_pre[\"Stop:Departure cancelled\"] == True, \"Stop:Departure delay\"] = 1000"
   ]
  },
  {
   "cell_type": "code",
   "execution_count": 4,
   "id": "5e476539-5bac-4f89-ad95-cab052cf1517",
   "metadata": {},
   "outputs": [
    {
     "data": {
      "text/html": [
       "<div>\n",
       "<style scoped>\n",
       "    .dataframe tbody tr th:only-of-type {\n",
       "        vertical-align: middle;\n",
       "    }\n",
       "\n",
       "    .dataframe tbody tr th {\n",
       "        vertical-align: top;\n",
       "    }\n",
       "\n",
       "    .dataframe thead th {\n",
       "        text-align: right;\n",
       "    }\n",
       "</style>\n",
       "<table border=\"1\" class=\"dataframe\">\n",
       "  <thead>\n",
       "    <tr style=\"text-align: right;\">\n",
       "      <th></th>\n",
       "      <th>Service:RDT-ID</th>\n",
       "      <th>Service:Type</th>\n",
       "      <th>Service:Completely cancelled</th>\n",
       "      <th>Stop:Station code</th>\n",
       "      <th>Stop:Station name</th>\n",
       "      <th>Stop:Arrival time</th>\n",
       "      <th>Stop:Arrival delay</th>\n",
       "      <th>Stop:Arrival cancelled</th>\n",
       "      <th>Stop:Departure time</th>\n",
       "      <th>Stop:Departure delay</th>\n",
       "      <th>Stop:Departure cancelled</th>\n",
       "      <th>Stop:Platform change</th>\n",
       "      <th>Stop:Number</th>\n",
       "      <th>Technical:Max-Stop-Num</th>\n",
       "    </tr>\n",
       "  </thead>\n",
       "  <tbody>\n",
       "    <tr>\n",
       "      <th>0</th>\n",
       "      <td>15086865</td>\n",
       "      <td>Intercity</td>\n",
       "      <td>False</td>\n",
       "      <td>RTD</td>\n",
       "      <td>Rotterdam Centraal</td>\n",
       "      <td>NaN</td>\n",
       "      <td>0.0</td>\n",
       "      <td>False</td>\n",
       "      <td>2025-01-01T02:02:00+01:00</td>\n",
       "      <td>0.0</td>\n",
       "      <td>False</td>\n",
       "      <td>False</td>\n",
       "      <td>1</td>\n",
       "      <td>9</td>\n",
       "    </tr>\n",
       "    <tr>\n",
       "      <th>1</th>\n",
       "      <td>15086865</td>\n",
       "      <td>Intercity</td>\n",
       "      <td>False</td>\n",
       "      <td>DT</td>\n",
       "      <td>Delft</td>\n",
       "      <td>2025-01-01T02:12:00+01:00</td>\n",
       "      <td>1.0</td>\n",
       "      <td>False</td>\n",
       "      <td>2025-01-01T02:12:00+01:00</td>\n",
       "      <td>1.0</td>\n",
       "      <td>False</td>\n",
       "      <td>False</td>\n",
       "      <td>2</td>\n",
       "      <td>9</td>\n",
       "    </tr>\n",
       "    <tr>\n",
       "      <th>2</th>\n",
       "      <td>15086865</td>\n",
       "      <td>Intercity</td>\n",
       "      <td>False</td>\n",
       "      <td>GV</td>\n",
       "      <td>Den Haag HS</td>\n",
       "      <td>2025-01-01T02:19:00+01:00</td>\n",
       "      <td>1.0</td>\n",
       "      <td>False</td>\n",
       "      <td>2025-01-01T02:22:00+01:00</td>\n",
       "      <td>0.0</td>\n",
       "      <td>False</td>\n",
       "      <td>False</td>\n",
       "      <td>3</td>\n",
       "      <td>9</td>\n",
       "    </tr>\n",
       "    <tr>\n",
       "      <th>3</th>\n",
       "      <td>15086865</td>\n",
       "      <td>Intercity</td>\n",
       "      <td>False</td>\n",
       "      <td>LEDN</td>\n",
       "      <td>Leiden Centraal</td>\n",
       "      <td>2025-01-01T02:31:00+01:00</td>\n",
       "      <td>0.0</td>\n",
       "      <td>False</td>\n",
       "      <td>2025-01-01T02:33:00+01:00</td>\n",
       "      <td>0.0</td>\n",
       "      <td>False</td>\n",
       "      <td>False</td>\n",
       "      <td>4</td>\n",
       "      <td>9</td>\n",
       "    </tr>\n",
       "    <tr>\n",
       "      <th>4</th>\n",
       "      <td>15086865</td>\n",
       "      <td>Intercity</td>\n",
       "      <td>False</td>\n",
       "      <td>SHL</td>\n",
       "      <td>Schiphol Airport</td>\n",
       "      <td>2025-01-01T02:56:00+01:00</td>\n",
       "      <td>0.0</td>\n",
       "      <td>False</td>\n",
       "      <td>2025-01-01T02:59:00+01:00</td>\n",
       "      <td>0.0</td>\n",
       "      <td>False</td>\n",
       "      <td>True</td>\n",
       "      <td>5</td>\n",
       "      <td>9</td>\n",
       "    </tr>\n",
       "    <tr>\n",
       "      <th>5</th>\n",
       "      <td>15086865</td>\n",
       "      <td>Intercity</td>\n",
       "      <td>False</td>\n",
       "      <td>ASS</td>\n",
       "      <td>Amsterdam Sloterdijk</td>\n",
       "      <td>2025-01-01T03:07:00+01:00</td>\n",
       "      <td>0.0</td>\n",
       "      <td>False</td>\n",
       "      <td>2025-01-01T03:09:00+01:00</td>\n",
       "      <td>0.0</td>\n",
       "      <td>False</td>\n",
       "      <td>False</td>\n",
       "      <td>6</td>\n",
       "      <td>9</td>\n",
       "    </tr>\n",
       "    <tr>\n",
       "      <th>6</th>\n",
       "      <td>15086865</td>\n",
       "      <td>Intercity</td>\n",
       "      <td>False</td>\n",
       "      <td>ASD</td>\n",
       "      <td>Amsterdam Centraal</td>\n",
       "      <td>2025-01-01T03:15:00+01:00</td>\n",
       "      <td>0.0</td>\n",
       "      <td>False</td>\n",
       "      <td>2025-01-01T03:19:00+01:00</td>\n",
       "      <td>0.0</td>\n",
       "      <td>False</td>\n",
       "      <td>False</td>\n",
       "      <td>7</td>\n",
       "      <td>9</td>\n",
       "    </tr>\n",
       "    <tr>\n",
       "      <th>7</th>\n",
       "      <td>15086865</td>\n",
       "      <td>Intercity</td>\n",
       "      <td>False</td>\n",
       "      <td>ASB</td>\n",
       "      <td>Amsterdam Bijlmer ArenA</td>\n",
       "      <td>2025-01-01T03:29:00+01:00</td>\n",
       "      <td>0.0</td>\n",
       "      <td>False</td>\n",
       "      <td>2025-01-01T03:30:00+01:00</td>\n",
       "      <td>0.0</td>\n",
       "      <td>False</td>\n",
       "      <td>False</td>\n",
       "      <td>8</td>\n",
       "      <td>9</td>\n",
       "    </tr>\n",
       "    <tr>\n",
       "      <th>8</th>\n",
       "      <td>15086865</td>\n",
       "      <td>Intercity</td>\n",
       "      <td>False</td>\n",
       "      <td>UT</td>\n",
       "      <td>Utrecht Centraal</td>\n",
       "      <td>2025-01-01T03:46:00+01:00</td>\n",
       "      <td>0.0</td>\n",
       "      <td>False</td>\n",
       "      <td>NaN</td>\n",
       "      <td>0.0</td>\n",
       "      <td>False</td>\n",
       "      <td>False</td>\n",
       "      <td>9</td>\n",
       "      <td>9</td>\n",
       "    </tr>\n",
       "    <tr>\n",
       "      <th>9</th>\n",
       "      <td>15086866</td>\n",
       "      <td>Intercity</td>\n",
       "      <td>False</td>\n",
       "      <td>ASD</td>\n",
       "      <td>Amsterdam Centraal</td>\n",
       "      <td>NaN</td>\n",
       "      <td>0.0</td>\n",
       "      <td>False</td>\n",
       "      <td>2025-01-01T02:05:00+01:00</td>\n",
       "      <td>23.0</td>\n",
       "      <td>False</td>\n",
       "      <td>False</td>\n",
       "      <td>1</td>\n",
       "      <td>3</td>\n",
       "    </tr>\n",
       "  </tbody>\n",
       "</table>\n",
       "</div>"
      ],
      "text/plain": [
       "   Service:RDT-ID Service:Type  Service:Completely cancelled  \\\n",
       "0        15086865    Intercity                         False   \n",
       "1        15086865    Intercity                         False   \n",
       "2        15086865    Intercity                         False   \n",
       "3        15086865    Intercity                         False   \n",
       "4        15086865    Intercity                         False   \n",
       "5        15086865    Intercity                         False   \n",
       "6        15086865    Intercity                         False   \n",
       "7        15086865    Intercity                         False   \n",
       "8        15086865    Intercity                         False   \n",
       "9        15086866    Intercity                         False   \n",
       "\n",
       "  Stop:Station code        Stop:Station name          Stop:Arrival time  \\\n",
       "0               RTD       Rotterdam Centraal                        NaN   \n",
       "1                DT                    Delft  2025-01-01T02:12:00+01:00   \n",
       "2                GV              Den Haag HS  2025-01-01T02:19:00+01:00   \n",
       "3              LEDN          Leiden Centraal  2025-01-01T02:31:00+01:00   \n",
       "4               SHL         Schiphol Airport  2025-01-01T02:56:00+01:00   \n",
       "5               ASS     Amsterdam Sloterdijk  2025-01-01T03:07:00+01:00   \n",
       "6               ASD       Amsterdam Centraal  2025-01-01T03:15:00+01:00   \n",
       "7               ASB  Amsterdam Bijlmer ArenA  2025-01-01T03:29:00+01:00   \n",
       "8                UT         Utrecht Centraal  2025-01-01T03:46:00+01:00   \n",
       "9               ASD       Amsterdam Centraal                        NaN   \n",
       "\n",
       "   Stop:Arrival delay  Stop:Arrival cancelled        Stop:Departure time  \\\n",
       "0                 0.0                   False  2025-01-01T02:02:00+01:00   \n",
       "1                 1.0                   False  2025-01-01T02:12:00+01:00   \n",
       "2                 1.0                   False  2025-01-01T02:22:00+01:00   \n",
       "3                 0.0                   False  2025-01-01T02:33:00+01:00   \n",
       "4                 0.0                   False  2025-01-01T02:59:00+01:00   \n",
       "5                 0.0                   False  2025-01-01T03:09:00+01:00   \n",
       "6                 0.0                   False  2025-01-01T03:19:00+01:00   \n",
       "7                 0.0                   False  2025-01-01T03:30:00+01:00   \n",
       "8                 0.0                   False                        NaN   \n",
       "9                 0.0                   False  2025-01-01T02:05:00+01:00   \n",
       "\n",
       "   Stop:Departure delay  Stop:Departure cancelled  Stop:Platform change  \\\n",
       "0                   0.0                     False                 False   \n",
       "1                   1.0                     False                 False   \n",
       "2                   0.0                     False                 False   \n",
       "3                   0.0                     False                 False   \n",
       "4                   0.0                     False                  True   \n",
       "5                   0.0                     False                 False   \n",
       "6                   0.0                     False                 False   \n",
       "7                   0.0                     False                 False   \n",
       "8                   0.0                     False                 False   \n",
       "9                  23.0                     False                 False   \n",
       "\n",
       "   Stop:Number  Technical:Max-Stop-Num  \n",
       "0            1                       9  \n",
       "1            2                       9  \n",
       "2            3                       9  \n",
       "3            4                       9  \n",
       "4            5                       9  \n",
       "5            6                       9  \n",
       "6            7                       9  \n",
       "7            8                       9  \n",
       "8            9                       9  \n",
       "9            1                       3  "
      ]
     },
     "execution_count": 4,
     "metadata": {},
     "output_type": "execute_result"
    }
   ],
   "source": [
    "dataset_pre.head(10)"
   ]
  },
  {
   "cell_type": "code",
   "execution_count": 5,
   "id": "b50222be-e082-415b-a847-16f2f8850834",
   "metadata": {},
   "outputs": [
    {
     "data": {
      "text/plain": [
       "0"
      ]
     },
     "execution_count": 5,
     "metadata": {},
     "output_type": "execute_result"
    }
   ],
   "source": [
    "one_journey_checks = dataset_pre[dataset_pre[\"Technical:Max-Stop-Num\"] == 1]\n",
    "len(one_journey_checks)\n"
   ]
  },
  {
   "cell_type": "code",
   "execution_count": 6,
   "id": "9bcead09-9f63-49d5-9018-fd358f46e234",
   "metadata": {},
   "outputs": [
    {
     "data": {
      "text/plain": [
       "336"
      ]
     },
     "execution_count": 6,
     "metadata": {},
     "output_type": "execute_result"
    }
   ],
   "source": [
    "null_not_on_arrival = dataset_pre[(dataset_pre['Stop:Arrival time'].isna()) & (dataset_pre['Stop:Number'] != 1)]\n",
    "null_not_on_arrival.head()\n",
    "\n",
    "check_2 = dataset_pre[(dataset_pre['Stop:Departure time'].isna()) & (dataset_pre['Stop:Number'] != dataset_pre[\"Technical:Max-Stop-Num\"])]\n",
    "len(check_2)"
   ]
  },
  {
   "cell_type": "code",
   "execution_count": 7,
   "id": "af3d07c7-082a-4611-a63c-36541f68cf8b",
   "metadata": {},
   "outputs": [
    {
     "name": "stdout",
     "output_type": "stream",
     "text": [
      "180320\n"
     ]
    }
   ],
   "source": [
    "delay = dataset_pre[dataset_pre[\"Stop:Arrival delay\"] == 1000]\n",
    "print(len(delay))"
   ]
  },
  {
   "cell_type": "code",
   "execution_count": 8,
   "id": "8193f3f2-0ce9-4cb0-9b7d-fdfb1bf90080",
   "metadata": {},
   "outputs": [],
   "source": [
    "test_ranges_1 = [(0,0), (1, 2), (3, 5), (6, 10), (11, 20), (21, 40), (41, 180), (180, 1001)]"
   ]
  },
  {
   "cell_type": "code",
   "execution_count": 9,
   "id": "389cb9b4-93af-413f-be02-df6b14cda151",
   "metadata": {},
   "outputs": [],
   "source": [
    "def plot_range_pie(df, column, ranges):\n",
    "    #create a pie chart to visualize different delay ranges in dataset\n",
    "    #to get an insight about the delays, to later evenly split it for classification.\n",
    "    total = len(df)\n",
    "\n",
    "    # counts per slice\n",
    "    counts = [df[column].between(lo, hi, inclusive=\"both\").sum()\n",
    "              for lo, hi in ranges]\n",
    "\n",
    "    # overall % per slice (share of ALL rows)\n",
    "    percentages = [cnt / total * 100 for cnt in counts]\n",
    "\n",
    "    # formatted strings: \"<range> - <percentage>, <occurrences>\"\n",
    "    summary_strings = [\n",
    "        f\"{lo}–{hi} - {pct:.1f}%, {cnt}\"\n",
    "        for (lo, hi), pct, cnt in zip(ranges, percentages, counts)\n",
    "    ]\n",
    "\n",
    "    # ------ PLOT -------\n",
    "    fig, ax = plt.subplots()\n",
    "    wedges, _, _ = ax.pie(\n",
    "        counts,\n",
    "        startangle=90,\n",
    "        autopct=lambda pct: f\"{pct:.1f}%\",  # keeps wedge labels\n",
    "        textprops={'weight': 'bold'}\n",
    "    )\n",
    "    ax.legend(\n",
    "        wedges,\n",
    "        [f\"{lo}–{hi}\" for lo, hi in ranges],\n",
    "        title=\"Ranges\",\n",
    "        loc=\"center left\",\n",
    "        bbox_to_anchor=(1, 0.5)\n",
    "    )\n",
    "    ax.set_title(f\"Distribution of '{column}' (N={total})\")\n",
    "    ax.axis(\"equal\")\n",
    "    plt.tight_layout()\n",
    "    plt.show()\n",
    "\n",
    "    # ------ PRINT LIST -------\n",
    "    for s in summary_strings:\n",
    "        print(s)\n",
    "\n",
    "    # also return it for programmatic use\n",
    "    return summary_strings"
   ]
  },
  {
   "cell_type": "code",
   "execution_count": 10,
   "id": "e7312b00-5782-4d84-b133-5c97ac5acefc",
   "metadata": {},
   "outputs": [
    {
     "data": {
      "image/png": "[encoded data removed]",
      "text/plain": [
       "<Figure size 432x288 with 1 Axes>"
      ]
     },
     "metadata": {},
     "output_type": "display_data"
    },
    {
     "name": "stdout",
     "output_type": "stream",
     "text": [
      "0–0 - 68.8%, 2364831\n",
      "1–2 - 17.8%, 612024\n",
      "3–5 - 5.1%, 176606\n",
      "6–10 - 2.0%, 67040\n",
      "11–20 - 0.9%, 29885\n",
      "21–40 - 0.2%, 5717\n",
      "41–180 - 0.0%, 467\n",
      "180–1001 - 5.2%, 180323\n"
     ]
    },
    {
     "data": {
      "text/plain": [
       "['0–0 - 68.8%, 2364831',\n",
       " '1–2 - 17.8%, 612024',\n",
       " '3–5 - 5.1%, 176606',\n",
       " '6–10 - 2.0%, 67040',\n",
       " '11–20 - 0.9%, 29885',\n",
       " '21–40 - 0.2%, 5717',\n",
       " '41–180 - 0.0%, 467',\n",
       " '180–1001 - 5.2%, 180323']"
      ]
     },
     "execution_count": 10,
     "metadata": {},
     "output_type": "execute_result"
    }
   ],
   "source": [
    "#Plotting departure delays, normal dataset\n",
    "plot_range_pie(dataset_pre, \"Stop:Arrival delay\", test_ranges_1)"
   ]
  },
  {
   "cell_type": "code",
   "execution_count": 11,
   "id": "86eb25c6-6480-4900-b0fa-15378d4e96ae",
   "metadata": {},
   "outputs": [
    {
     "data": {
      "image/png": "[encoded data removed]",
      "text/plain": [
       "<Figure size 432x288 with 1 Axes>"
      ]
     },
     "metadata": {},
     "output_type": "display_data"
    },
    {
     "name": "stdout",
     "output_type": "stream",
     "text": [
      "0–0 - 69.7%, 2394151\n",
      "1–2 - 17.5%, 602849\n",
      "3–5 - 4.8%, 165653\n",
      "6–10 - 1.8%, 62408\n",
      "11–20 - 0.8%, 26745\n",
      "21–40 - 0.1%, 4507\n",
      "41–180 - 0.0%, 322\n",
      "180–1001 - 5.2%, 180259\n"
     ]
    },
    {
     "data": {
      "text/plain": [
       "['0–0 - 69.7%, 2394151',\n",
       " '1–2 - 17.5%, 602849',\n",
       " '3–5 - 4.8%, 165653',\n",
       " '6–10 - 1.8%, 62408',\n",
       " '11–20 - 0.8%, 26745',\n",
       " '21–40 - 0.1%, 4507',\n",
       " '41–180 - 0.0%, 322',\n",
       " '180–1001 - 5.2%, 180259']"
      ]
     },
     "execution_count": 11,
     "metadata": {},
     "output_type": "execute_result"
    }
   ],
   "source": [
    "#Plotting departure delays, normal dataset\n",
    "plot_range_pie(dataset_pre, \"Stop:Departure delay\", test_ranges_1)"
   ]
  },
  {
   "cell_type": "markdown",
   "id": "e57cf43f-4a81-4115-b05f-880e7c082c1d",
   "metadata": {},
   "source": [
    "## Judging by the dataset:\n",
    "- Stop id increments as the journey progresses\n",
    "- First stop has arrival time as NaN\n",
    "- Final stop has departure time as NaN"
   ]
  },
  {
   "cell_type": "code",
   "execution_count": 12,
   "id": "aea4b3c1-dd2e-4569-921d-57849b069983",
   "metadata": {},
   "outputs": [
    {
     "data": {
      "image/png": "[encoded data removed]",
      "text/plain": [
       "<Figure size 432x288 with 1 Axes>"
      ]
     },
     "metadata": {},
     "output_type": "display_data"
    },
    {
     "name": "stdout",
     "output_type": "stream",
     "text": [
      "0–0 - 53.3%, 90\n",
      "1–2 - 18.9%, 32\n",
      "3–5 - 4.1%, 7\n",
      "6–10 - 8.9%, 15\n",
      "11–20 - 7.7%, 13\n",
      "21–40 - 1.2%, 2\n",
      "41–180 - 0.0%, 0\n",
      "180–1001 - 5.9%, 10\n"
     ]
    },
    {
     "data": {
      "text/plain": [
       "['0–0 - 53.3%, 90',\n",
       " '1–2 - 18.9%, 32',\n",
       " '3–5 - 4.1%, 7',\n",
       " '6–10 - 8.9%, 15',\n",
       " '11–20 - 7.7%, 13',\n",
       " '21–40 - 1.2%, 2',\n",
       " '41–180 - 0.0%, 0',\n",
       " '180–1001 - 5.9%, 10']"
      ]
     },
     "execution_count": 12,
     "metadata": {},
     "output_type": "execute_result"
    }
   ],
   "source": [
    "#Plotting departure delays, normal dataset\n",
    "plot_range_pie(null_not_on_arrival, \"Stop:Departure delay\", test_ranges_1)\n"
   ]
  },
  {
   "cell_type": "code",
   "execution_count": 13,
   "id": "a0f88d94-723e-4dc4-a360-905cb78a638b",
   "metadata": {},
   "outputs": [],
   "source": [
    "#Drop all entries where arrival time is null and station is not equal to one\n",
    "dataset_pre = dataset_pre[~((dataset_pre['Stop:Arrival time'].isna()) & (dataset_pre['Stop:Number'] != 1))]\n",
    "dataset_pre = dataset_pre[~((dataset_pre['Stop:Departure time'].isna()) & (dataset_pre['Stop:Number'] != dataset_pre[\"Technical:Max-Stop-Num\"]))]"
   ]
  },
  {
   "cell_type": "code",
   "execution_count": 14,
   "id": "ecf262bc-3ed6-4b31-8957-fbcdee61a8d0",
   "metadata": {},
   "outputs": [],
   "source": [
    "def column_null_overview(df: pd.DataFrame):\n",
    "    null_counts = (df.isna() | df.eq('')).sum()   # vectorised, very fast\n",
    "    overview = null_counts.to_dict()\n",
    "    print(overview)\n",
    "    return overview"
   ]
  },
  {
   "cell_type": "code",
   "execution_count": 15,
   "id": "1a6d5033-7148-4201-afbf-fa34ea2dced6",
   "metadata": {},
   "outputs": [
    {
     "data": {
      "text/plain": [
       "3436390"
      ]
     },
     "execution_count": 15,
     "metadata": {},
     "output_type": "execute_result"
    }
   ],
   "source": [
    "check_3 = dataset_pre[(dataset_pre['Stop:Departure time'].notna()) & (dataset_pre['Stop:Number'] == dataset_pre[\"Technical:Max-Stop-Num\"])]\n",
    "len(check_3)\n",
    "len(dataset_pre)"
   ]
  },
  {
   "cell_type": "code",
   "execution_count": 16,
   "id": "5a70a8e9-93c6-4089-8020-558584e828b5",
   "metadata": {},
   "outputs": [],
   "source": [
    "ids_to_drop = dataset_pre.loc[\n",
    "    (dataset_pre['Stop:Departure time'].notna()) &\n",
    "    (dataset_pre['Stop:Number'] == dataset_pre[\"Technical:Max-Stop-Num\"]),\n",
    "    'Service:RDT-ID'\n",
    "].unique()\n",
    "\n",
    "# Step 2: Drop all rows with those Service:RDT-ID values\n",
    "dataset_pre = dataset_pre[~dataset_pre['Service:RDT-ID'].isin(ids_to_drop)]"
   ]
  },
  {
   "cell_type": "code",
   "execution_count": 17,
   "id": "daacaaa4-660f-4b59-8750-c3a368c530ef",
   "metadata": {},
   "outputs": [
    {
     "name": "stdout",
     "output_type": "stream",
     "text": [
      "{'Service:RDT-ID': 0, 'Service:Type': 0, 'Service:Completely cancelled': 0, 'Stop:Station code': 0, 'Stop:Station name': 0, 'Stop:Arrival time': 324561, 'Stop:Arrival delay': 0, 'Stop:Arrival cancelled': 0, 'Stop:Departure time': 324561, 'Stop:Departure delay': 0, 'Stop:Departure cancelled': 0, 'Stop:Platform change': 0, 'Stop:Number': 0, 'Technical:Max-Stop-Num': 0}\n"
     ]
    },
    {
     "data": {
      "text/plain": [
       "{'Service:RDT-ID': 0,\n",
       " 'Service:Type': 0,\n",
       " 'Service:Completely cancelled': 0,\n",
       " 'Stop:Station code': 0,\n",
       " 'Stop:Station name': 0,\n",
       " 'Stop:Arrival time': 324561,\n",
       " 'Stop:Arrival delay': 0,\n",
       " 'Stop:Arrival cancelled': 0,\n",
       " 'Stop:Departure time': 324561,\n",
       " 'Stop:Departure delay': 0,\n",
       " 'Stop:Departure cancelled': 0,\n",
       " 'Stop:Platform change': 0,\n",
       " 'Stop:Number': 0,\n",
       " 'Technical:Max-Stop-Num': 0}"
      ]
     },
     "execution_count": 17,
     "metadata": {},
     "output_type": "execute_result"
    }
   ],
   "source": [
    "column_null_overview(dataset_pre)"
   ]
  },
  {
   "cell_type": "code",
   "execution_count": 18,
   "id": "301475d8-2495-4e3b-b4c0-90c3e98d8402",
   "metadata": {},
   "outputs": [
    {
     "data": {
      "image/png": "[encoded data removed]",
      "text/plain": [
       "<Figure size 432x288 with 1 Axes>"
      ]
     },
     "metadata": {},
     "output_type": "display_data"
    },
    {
     "name": "stdout",
     "output_type": "stream",
     "text": [
      "0–0 - 100.0%, 324561\n",
      "1–2 - 0.0%, 0\n",
      "3–5 - 0.0%, 0\n",
      "6–10 - 0.0%, 0\n",
      "11–20 - 0.0%, 0\n",
      "21–40 - 0.0%, 0\n",
      "41–180 - 0.0%, 0\n",
      "180–1001 - 0.0%, 0\n"
     ]
    },
    {
     "data": {
      "text/plain": [
       "['0–0 - 100.0%, 324561',\n",
       " '1–2 - 0.0%, 0',\n",
       " '3–5 - 0.0%, 0',\n",
       " '6–10 - 0.0%, 0',\n",
       " '11–20 - 0.0%, 0',\n",
       " '21–40 - 0.0%, 0',\n",
       " '41–180 - 0.0%, 0',\n",
       " '180–1001 - 0.0%, 0']"
      ]
     },
     "execution_count": 18,
     "metadata": {},
     "output_type": "execute_result"
    }
   ],
   "source": [
    "first_stops = dataset_pre[dataset_pre['Stop:Number'] == dataset_pre[\"Technical:Max-Stop-Num\"]]\n",
    "plot_range_pie(first_stops, \"Stop:Departure delay\", test_ranges_1)"
   ]
  },
  {
   "cell_type": "code",
   "execution_count": 19,
   "id": "bff4a3f4-721e-45b9-ad0e-a62f58e6464c",
   "metadata": {},
   "outputs": [
    {
     "data": {
      "text/html": [
       "<div>\n",
       "<style scoped>\n",
       "    .dataframe tbody tr th:only-of-type {\n",
       "        vertical-align: middle;\n",
       "    }\n",
       "\n",
       "    .dataframe tbody tr th {\n",
       "        vertical-align: top;\n",
       "    }\n",
       "\n",
       "    .dataframe thead th {\n",
       "        text-align: right;\n",
       "    }\n",
       "</style>\n",
       "<table border=\"1\" class=\"dataframe\">\n",
       "  <thead>\n",
       "    <tr style=\"text-align: right;\">\n",
       "      <th></th>\n",
       "      <th>Service:RDT-ID</th>\n",
       "      <th>Service:Type</th>\n",
       "      <th>Service:Completely cancelled</th>\n",
       "      <th>Stop:Station code</th>\n",
       "      <th>Stop:Station name</th>\n",
       "      <th>Stop:Arrival time</th>\n",
       "      <th>Stop:Arrival delay</th>\n",
       "      <th>Stop:Arrival cancelled</th>\n",
       "      <th>Stop:Departure time</th>\n",
       "      <th>Stop:Departure delay</th>\n",
       "      <th>Stop:Departure cancelled</th>\n",
       "      <th>Stop:Platform change</th>\n",
       "      <th>Stop:Number</th>\n",
       "      <th>Technical:Max-Stop-Num</th>\n",
       "    </tr>\n",
       "  </thead>\n",
       "  <tbody>\n",
       "    <tr>\n",
       "      <th>0</th>\n",
       "      <td>15086865</td>\n",
       "      <td>Intercity</td>\n",
       "      <td>False</td>\n",
       "      <td>RTD</td>\n",
       "      <td>Rotterdam Centraal</td>\n",
       "      <td>NaN</td>\n",
       "      <td>0.0</td>\n",
       "      <td>False</td>\n",
       "      <td>2025-01-01T02:02:00+01:00</td>\n",
       "      <td>0.0</td>\n",
       "      <td>False</td>\n",
       "      <td>False</td>\n",
       "      <td>1</td>\n",
       "      <td>9</td>\n",
       "    </tr>\n",
       "    <tr>\n",
       "      <th>1</th>\n",
       "      <td>15086865</td>\n",
       "      <td>Intercity</td>\n",
       "      <td>False</td>\n",
       "      <td>DT</td>\n",
       "      <td>Delft</td>\n",
       "      <td>2025-01-01T02:12:00+01:00</td>\n",
       "      <td>1.0</td>\n",
       "      <td>False</td>\n",
       "      <td>2025-01-01T02:12:00+01:00</td>\n",
       "      <td>1.0</td>\n",
       "      <td>False</td>\n",
       "      <td>False</td>\n",
       "      <td>2</td>\n",
       "      <td>9</td>\n",
       "    </tr>\n",
       "    <tr>\n",
       "      <th>2</th>\n",
       "      <td>15086865</td>\n",
       "      <td>Intercity</td>\n",
       "      <td>False</td>\n",
       "      <td>GV</td>\n",
       "      <td>Den Haag HS</td>\n",
       "      <td>2025-01-01T02:19:00+01:00</td>\n",
       "      <td>1.0</td>\n",
       "      <td>False</td>\n",
       "      <td>2025-01-01T02:22:00+01:00</td>\n",
       "      <td>0.0</td>\n",
       "      <td>False</td>\n",
       "      <td>False</td>\n",
       "      <td>3</td>\n",
       "      <td>9</td>\n",
       "    </tr>\n",
       "    <tr>\n",
       "      <th>3</th>\n",
       "      <td>15086865</td>\n",
       "      <td>Intercity</td>\n",
       "      <td>False</td>\n",
       "      <td>LEDN</td>\n",
       "      <td>Leiden Centraal</td>\n",
       "      <td>2025-01-01T02:31:00+01:00</td>\n",
       "      <td>0.0</td>\n",
       "      <td>False</td>\n",
       "      <td>2025-01-01T02:33:00+01:00</td>\n",
       "      <td>0.0</td>\n",
       "      <td>False</td>\n",
       "      <td>False</td>\n",
       "      <td>4</td>\n",
       "      <td>9</td>\n",
       "    </tr>\n",
       "    <tr>\n",
       "      <th>4</th>\n",
       "      <td>15086865</td>\n",
       "      <td>Intercity</td>\n",
       "      <td>False</td>\n",
       "      <td>SHL</td>\n",
       "      <td>Schiphol Airport</td>\n",
       "      <td>2025-01-01T02:56:00+01:00</td>\n",
       "      <td>0.0</td>\n",
       "      <td>False</td>\n",
       "      <td>2025-01-01T02:59:00+01:00</td>\n",
       "      <td>0.0</td>\n",
       "      <td>False</td>\n",
       "      <td>True</td>\n",
       "      <td>5</td>\n",
       "      <td>9</td>\n",
       "    </tr>\n",
       "  </tbody>\n",
       "</table>\n",
       "</div>"
      ],
      "text/plain": [
       "   Service:RDT-ID Service:Type  Service:Completely cancelled  \\\n",
       "0        15086865    Intercity                         False   \n",
       "1        15086865    Intercity                         False   \n",
       "2        15086865    Intercity                         False   \n",
       "3        15086865    Intercity                         False   \n",
       "4        15086865    Intercity                         False   \n",
       "\n",
       "  Stop:Station code   Stop:Station name          Stop:Arrival time  \\\n",
       "0               RTD  Rotterdam Centraal                        NaN   \n",
       "1                DT               Delft  2025-01-01T02:12:00+01:00   \n",
       "2                GV         Den Haag HS  2025-01-01T02:19:00+01:00   \n",
       "3              LEDN     Leiden Centraal  2025-01-01T02:31:00+01:00   \n",
       "4               SHL    Schiphol Airport  2025-01-01T02:56:00+01:00   \n",
       "\n",
       "   Stop:Arrival delay  Stop:Arrival cancelled        Stop:Departure time  \\\n",
       "0                 0.0                   False  2025-01-01T02:02:00+01:00   \n",
       "1                 1.0                   False  2025-01-01T02:12:00+01:00   \n",
       "2                 1.0                   False  2025-01-01T02:22:00+01:00   \n",
       "3                 0.0                   False  2025-01-01T02:33:00+01:00   \n",
       "4                 0.0                   False  2025-01-01T02:59:00+01:00   \n",
       "\n",
       "   Stop:Departure delay  Stop:Departure cancelled  Stop:Platform change  \\\n",
       "0                   0.0                     False                 False   \n",
       "1                   1.0                     False                 False   \n",
       "2                   0.0                     False                 False   \n",
       "3                   0.0                     False                 False   \n",
       "4                   0.0                     False                  True   \n",
       "\n",
       "   Stop:Number  Technical:Max-Stop-Num  \n",
       "0            1                       9  \n",
       "1            2                       9  \n",
       "2            3                       9  \n",
       "3            4                       9  \n",
       "4            5                       9  "
      ]
     },
     "execution_count": 19,
     "metadata": {},
     "output_type": "execute_result"
    }
   ],
   "source": [
    "dataset_pre.head()"
   ]
  },
  {
   "cell_type": "code",
   "execution_count": 20,
   "id": "3f45be07-c514-4d11-a4b8-bbb4b597f6d5",
   "metadata": {},
   "outputs": [],
   "source": [
    "num_processes = cpu_count()\n",
    "grouped_data = dataset_pre.groupby('Service:RDT-ID')\n",
    "args_list = [(journey_id, group) for journey_id, group in grouped_data]"
   ]
  },
  {
   "cell_type": "code",
   "execution_count": 21,
   "id": "a02b76d5-160f-4503-a8b6-4a6e1dd8790a",
   "metadata": {},
   "outputs": [],
   "source": [
    "dataset_post = []\n",
    "with Pool(num_processes - 1) as pool:\n",
    "    # Use the apply method to process each group in parallel\n",
    "    results = pool.map(merging.merge_func, args_list)\n",
    "pool.close()\n",
    "pool.join()\n",
    "\n",
    "dataset_post = pd.concat(results)"
   ]
  },
  {
   "cell_type": "code",
   "execution_count": 22,
   "id": "d82ab030-a497-42ff-a625-8e0ddde3b31a",
   "metadata": {},
   "outputs": [
    {
     "data": {
      "text/html": [
       "<div>\n",
       "<style scoped>\n",
       "    .dataframe tbody tr th:only-of-type {\n",
       "        vertical-align: middle;\n",
       "    }\n",
       "\n",
       "    .dataframe tbody tr th {\n",
       "        vertical-align: top;\n",
       "    }\n",
       "\n",
       "    .dataframe thead th {\n",
       "        text-align: right;\n",
       "    }\n",
       "</style>\n",
       "<table border=\"1\" class=\"dataframe\">\n",
       "  <thead>\n",
       "    <tr style=\"text-align: right;\">\n",
       "      <th></th>\n",
       "      <th>Journey id</th>\n",
       "      <th>Train type</th>\n",
       "      <th>Departure station code</th>\n",
       "      <th>Arrival station code</th>\n",
       "      <th>Departure station name</th>\n",
       "      <th>Arrival station name</th>\n",
       "      <th>Departure time</th>\n",
       "      <th>Arrival time</th>\n",
       "      <th>Departure delay</th>\n",
       "      <th>Arrival delay</th>\n",
       "      <th>Part number</th>\n",
       "      <th>Cancelled</th>\n",
       "      <th>Departure platform changed</th>\n",
       "      <th>Arrival platform changed</th>\n",
       "    </tr>\n",
       "  </thead>\n",
       "  <tbody>\n",
       "    <tr>\n",
       "      <th>0</th>\n",
       "      <td>15086865</td>\n",
       "      <td>Intercity</td>\n",
       "      <td>RTD</td>\n",
       "      <td>DT</td>\n",
       "      <td>Rotterdam Centraal</td>\n",
       "      <td>Delft</td>\n",
       "      <td>2025-01-01T02:02:00+01:00</td>\n",
       "      <td>2025-01-01T02:12:00+01:00</td>\n",
       "      <td>0.0</td>\n",
       "      <td>1.0</td>\n",
       "      <td>1</td>\n",
       "      <td>0</td>\n",
       "      <td>False</td>\n",
       "      <td>False</td>\n",
       "    </tr>\n",
       "    <tr>\n",
       "      <th>1</th>\n",
       "      <td>15086865</td>\n",
       "      <td>Intercity</td>\n",
       "      <td>DT</td>\n",
       "      <td>GV</td>\n",
       "      <td>Delft</td>\n",
       "      <td>Den Haag HS</td>\n",
       "      <td>2025-01-01T02:12:00+01:00</td>\n",
       "      <td>2025-01-01T02:19:00+01:00</td>\n",
       "      <td>1.0</td>\n",
       "      <td>1.0</td>\n",
       "      <td>2</td>\n",
       "      <td>0</td>\n",
       "      <td>False</td>\n",
       "      <td>False</td>\n",
       "    </tr>\n",
       "    <tr>\n",
       "      <th>2</th>\n",
       "      <td>15086865</td>\n",
       "      <td>Intercity</td>\n",
       "      <td>GV</td>\n",
       "      <td>LEDN</td>\n",
       "      <td>Den Haag HS</td>\n",
       "      <td>Leiden Centraal</td>\n",
       "      <td>2025-01-01T02:22:00+01:00</td>\n",
       "      <td>2025-01-01T02:31:00+01:00</td>\n",
       "      <td>0.0</td>\n",
       "      <td>0.0</td>\n",
       "      <td>3</td>\n",
       "      <td>0</td>\n",
       "      <td>False</td>\n",
       "      <td>False</td>\n",
       "    </tr>\n",
       "    <tr>\n",
       "      <th>3</th>\n",
       "      <td>15086865</td>\n",
       "      <td>Intercity</td>\n",
       "      <td>LEDN</td>\n",
       "      <td>SHL</td>\n",
       "      <td>Leiden Centraal</td>\n",
       "      <td>Schiphol Airport</td>\n",
       "      <td>2025-01-01T02:33:00+01:00</td>\n",
       "      <td>2025-01-01T02:56:00+01:00</td>\n",
       "      <td>0.0</td>\n",
       "      <td>0.0</td>\n",
       "      <td>4</td>\n",
       "      <td>0</td>\n",
       "      <td>False</td>\n",
       "      <td>True</td>\n",
       "    </tr>\n",
       "    <tr>\n",
       "      <th>4</th>\n",
       "      <td>15086865</td>\n",
       "      <td>Intercity</td>\n",
       "      <td>SHL</td>\n",
       "      <td>ASS</td>\n",
       "      <td>Schiphol Airport</td>\n",
       "      <td>Amsterdam Sloterdijk</td>\n",
       "      <td>2025-01-01T02:59:00+01:00</td>\n",
       "      <td>2025-01-01T03:07:00+01:00</td>\n",
       "      <td>0.0</td>\n",
       "      <td>0.0</td>\n",
       "      <td>5</td>\n",
       "      <td>0</td>\n",
       "      <td>True</td>\n",
       "      <td>False</td>\n",
       "    </tr>\n",
       "  </tbody>\n",
       "</table>\n",
       "</div>"
      ],
      "text/plain": [
       "   Journey id Train type Departure station code Arrival station code  \\\n",
       "0    15086865  Intercity                    RTD                   DT   \n",
       "1    15086865  Intercity                     DT                   GV   \n",
       "2    15086865  Intercity                     GV                 LEDN   \n",
       "3    15086865  Intercity                   LEDN                  SHL   \n",
       "4    15086865  Intercity                    SHL                  ASS   \n",
       "\n",
       "  Departure station name  Arrival station name             Departure time  \\\n",
       "0     Rotterdam Centraal                 Delft  2025-01-01T02:02:00+01:00   \n",
       "1                  Delft           Den Haag HS  2025-01-01T02:12:00+01:00   \n",
       "2            Den Haag HS       Leiden Centraal  2025-01-01T02:22:00+01:00   \n",
       "3        Leiden Centraal      Schiphol Airport  2025-01-01T02:33:00+01:00   \n",
       "4       Schiphol Airport  Amsterdam Sloterdijk  2025-01-01T02:59:00+01:00   \n",
       "\n",
       "                Arrival time  Departure delay  Arrival delay  Part number  \\\n",
       "0  2025-01-01T02:12:00+01:00              0.0            1.0            1   \n",
       "1  2025-01-01T02:19:00+01:00              1.0            1.0            2   \n",
       "2  2025-01-01T02:31:00+01:00              0.0            0.0            3   \n",
       "3  2025-01-01T02:56:00+01:00              0.0            0.0            4   \n",
       "4  2025-01-01T03:07:00+01:00              0.0            0.0            5   \n",
       "\n",
       "   Cancelled  Departure platform changed  Arrival platform changed  \n",
       "0          0                       False                     False  \n",
       "1          0                       False                     False  \n",
       "2          0                       False                     False  \n",
       "3          0                       False                      True  \n",
       "4          0                        True                     False  "
      ]
     },
     "execution_count": 22,
     "metadata": {},
     "output_type": "execute_result"
    }
   ],
   "source": [
    "dataset_post.head()"
   ]
  },
  {
   "cell_type": "code",
   "execution_count": 24,
   "id": "6febd596-abb6-48ff-a765-a33249583ad4",
   "metadata": {},
   "outputs": [
    {
     "data": {
      "image/png": "[encoded data removed]",
      "text/plain": [
       "<Figure size 432x288 with 1 Axes>"
      ]
     },
     "metadata": {},
     "output_type": "display_data"
    },
    {
     "name": "stdout",
     "output_type": "stream",
     "text": [
      "0–0 - 65.6%, 2039949\n",
      "1–2 - 19.7%, 611941\n",
      "3–5 - 5.7%, 176559\n",
      "6–10 - 2.2%, 67001\n",
      "11–20 - 1.0%, 29849\n",
      "21–40 - 0.2%, 5666\n",
      "41–180 - 0.0%, 460\n",
      "180–1001 - 5.8%, 180305\n"
     ]
    },
    {
     "data": {
      "text/plain": [
       "['0–0 - 65.6%, 2039949',\n",
       " '1–2 - 19.7%, 611941',\n",
       " '3–5 - 5.7%, 176559',\n",
       " '6–10 - 2.2%, 67001',\n",
       " '11–20 - 1.0%, 29849',\n",
       " '21–40 - 0.2%, 5666',\n",
       " '41–180 - 0.0%, 460',\n",
       " '180–1001 - 5.8%, 180305']"
      ]
     },
     "execution_count": 24,
     "metadata": {},
     "output_type": "execute_result"
    }
   ],
   "source": [
    "plot_range_pie(dataset_post, \"Arrival delay\", test_ranges_1)"
   ]
  },
  {
   "cell_type": "code",
   "execution_count": 25,
   "id": "8b49cdbf-4a03-4f8e-967c-485548527b87",
   "metadata": {},
   "outputs": [
    {
     "data": {
      "image/png": "[encoded data removed]",
      "text/plain": [
       "<Figure size 432x288 with 1 Axes>"
      ]
     },
     "metadata": {},
     "output_type": "display_data"
    },
    {
     "name": "stdout",
     "output_type": "stream",
     "text": [
      "0–0 - 66.5%, 2069102\n",
      "1–2 - 19.4%, 602805\n",
      "3–5 - 5.3%, 165640\n",
      "6–10 - 2.0%, 62390\n",
      "11–20 - 0.9%, 26731\n",
      "21–40 - 0.1%, 4500\n",
      "41–180 - 0.0%, 322\n",
      "180–1001 - 5.8%, 180241\n"
     ]
    },
    {
     "data": {
      "text/plain": [
       "['0–0 - 66.5%, 2069102',\n",
       " '1–2 - 19.4%, 602805',\n",
       " '3–5 - 5.3%, 165640',\n",
       " '6–10 - 2.0%, 62390',\n",
       " '11–20 - 0.9%, 26731',\n",
       " '21–40 - 0.1%, 4500',\n",
       " '41–180 - 0.0%, 322',\n",
       " '180–1001 - 5.8%, 180241']"
      ]
     },
     "execution_count": 25,
     "metadata": {},
     "output_type": "execute_result"
    }
   ],
   "source": [
    "plot_range_pie(dataset_post, \"Departure delay\", test_ranges_1)"
   ]
  },
  {
   "cell_type": "code",
   "execution_count": 28,
   "id": "affe803c-f297-475f-b600-e4ebcbe2908a",
   "metadata": {},
   "outputs": [],
   "source": [
    "dataset_post.to_csv('preprocessed_data/merged_journeys.csv', index=False)"
   ]
  },
  {
   "cell_type": "code",
   "execution_count": null,
   "id": "a02b6c55-822d-4ee7-ac1c-173ab7b7e2d0",
   "metadata": {},
   "outputs": [],
   "source": []
  }
 ],
 "metadata": {
  "kernelspec": {
   "display_name": "Python 3 (ipykernel)",
   "language": "python",
   "name": "python3"
  },
  "language_info": {
   "codemirror_mode": {
    "name": "ipython",
    "version": 3
   },
   "file_extension": ".py",
   "mimetype": "text/x-python",
   "name": "python",
   "nbconvert_exporter": "python",
   "pygments_lexer": "ipython3",
   "version": "3.10.12"
  }
 },
 "nbformat": 4,
 "nbformat_minor": 5
}
