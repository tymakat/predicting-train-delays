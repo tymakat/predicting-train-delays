{
 "cells": [
  {
   "cell_type": "code",
   "execution_count": 98,
   "id": "ad639e50-0097-4542-a6fe-19aa320ec27f",
   "metadata": {},
   "outputs": [],
   "source": [
    "import pandas as pd\n",
    "import numpy as np\n",
    "import tensorflow as tf\n",
    "from tensorflow import keras\n",
    "import matplotlib.pyplot as plt\n",
    "from datetime import datetime\n",
    "from datetime import date\n",
    "from pathlib import Path  "
   ]
  },
  {
   "cell_type": "code",
   "execution_count": 99,
   "id": "c49b860c-1b17-4d4c-a6fe-abdee3c06cab",
   "metadata": {},
   "outputs": [
    {
     "data": {
      "text/html": [
       "<div>\n",
       "<style scoped>\n",
       "    .dataframe tbody tr th:only-of-type {\n",
       "        vertical-align: middle;\n",
       "    }\n",
       "\n",
       "    .dataframe tbody tr th {\n",
       "        vertical-align: top;\n",
       "    }\n",
       "\n",
       "    .dataframe thead th {\n",
       "        text-align: right;\n",
       "    }\n",
       "</style>\n",
       "<table border=\"1\" class=\"dataframe\">\n",
       "  <thead>\n",
       "    <tr style=\"text-align: right;\">\n",
       "      <th></th>\n",
       "      <th>rdt_id</th>\n",
       "      <th>ns_lines</th>\n",
       "      <th>rdt_lines</th>\n",
       "      <th>rdt_lines_id</th>\n",
       "      <th>rdt_station_names</th>\n",
       "      <th>rdt_station_codes</th>\n",
       "      <th>cause_nl</th>\n",
       "      <th>cause_en</th>\n",
       "      <th>statistical_cause_nl</th>\n",
       "      <th>statistical_cause_en</th>\n",
       "      <th>cause_group</th>\n",
       "      <th>start_time</th>\n",
       "      <th>end_time</th>\n",
       "      <th>duration_minutes</th>\n",
       "    </tr>\n",
       "  </thead>\n",
       "  <tbody>\n",
       "    <tr>\n",
       "      <th>0</th>\n",
       "      <td>40500</td>\n",
       "      <td>Den Haag-Rotterdam; Leiden-Rotterdam</td>\n",
       "      <td>Den Haag HS - Rotterdam Centraal</td>\n",
       "      <td>11</td>\n",
       "      <td>Delft,Delft Campus,Den Haag HS,Den Haag Moerwi...</td>\n",
       "      <td>DT, DTCP, GV, GVMW, RSW</td>\n",
       "      <td>brandmelding</td>\n",
       "      <td>fire alarm</td>\n",
       "      <td>brandmelding</td>\n",
       "      <td>fire alarm</td>\n",
       "      <td>external</td>\n",
       "      <td>2022-01-01 05:45:33</td>\n",
       "      <td>2022-01-01 06:34:58</td>\n",
       "      <td>49.0</td>\n",
       "    </tr>\n",
       "    <tr>\n",
       "      <th>1</th>\n",
       "      <td>40501</td>\n",
       "      <td>Amsterdam-Utrecht; Utrecht-Eindhoven</td>\n",
       "      <td>'s-Hertogenbosch - Utrecht Centraal, Amsterdam...</td>\n",
       "      <td>136,151</td>\n",
       "      <td>Abcoude,Amsterdam Amstel,Amsterdam Bijlmer Are...</td>\n",
       "      <td>AC, ASA, ASB, ASD, ASDM, ASHD, BKL, CL, DVD, G...</td>\n",
       "      <td>herstelwerkzaamheden</td>\n",
       "      <td>repair works</td>\n",
       "      <td>herstelwerkzaamheden</td>\n",
       "      <td>repair works</td>\n",
       "      <td>engineering work</td>\n",
       "      <td>2022-01-01 06:23:54</td>\n",
       "      <td>2022-01-01 13:59:14</td>\n",
       "      <td>455.0</td>\n",
       "    </tr>\n",
       "    <tr>\n",
       "      <th>2</th>\n",
       "      <td>40502</td>\n",
       "      <td>Schiphol-Rotterdam (HSL)</td>\n",
       "      <td>Rotterdam Centraal - Schiphol Airport (HSL)</td>\n",
       "      <td>24</td>\n",
       "      <td>Rotterdam Centraal,Schiphol Airport</td>\n",
       "      <td>RTD, SHL</td>\n",
       "      <td>brandmelding</td>\n",
       "      <td>fire alarm</td>\n",
       "      <td>brandmelding</td>\n",
       "      <td>fire alarm</td>\n",
       "      <td>external</td>\n",
       "      <td>2022-01-01 06:33:40</td>\n",
       "      <td>2022-01-01 06:34:27</td>\n",
       "      <td>1.0</td>\n",
       "    </tr>\n",
       "    <tr>\n",
       "      <th>3</th>\n",
       "      <td>40503</td>\n",
       "      <td>Eindhoven-Venlo</td>\n",
       "      <td>Eindhoven - Venlo</td>\n",
       "      <td>65</td>\n",
       "      <td>Blerick,Deurne,Horst-Sevenum,Venlo</td>\n",
       "      <td>BR, DN, HRT, VL</td>\n",
       "      <td>aanrijding</td>\n",
       "      <td>collision</td>\n",
       "      <td>aanrijding</td>\n",
       "      <td>collision</td>\n",
       "      <td>accidents</td>\n",
       "      <td>2022-01-01 07:31:39</td>\n",
       "      <td>2022-01-01 11:26:38</td>\n",
       "      <td>235.0</td>\n",
       "    </tr>\n",
       "    <tr>\n",
       "      <th>4</th>\n",
       "      <td>40504</td>\n",
       "      <td>Alkmaar-Den Helder; Alkmaar-Hoorn</td>\n",
       "      <td>Alkmaar - Den Helder, Alkmaar - Hoorn</td>\n",
       "      <td>162,163</td>\n",
       "      <td>Alkmaar Noord,Heerhugowaard</td>\n",
       "      <td>AMRN, HWD</td>\n",
       "      <td>aanrijding</td>\n",
       "      <td>collision</td>\n",
       "      <td>aanrijding</td>\n",
       "      <td>collision</td>\n",
       "      <td>accidents</td>\n",
       "      <td>2022-01-01 07:32:32</td>\n",
       "      <td>2022-01-01 07:42:25</td>\n",
       "      <td>10.0</td>\n",
       "    </tr>\n",
       "  </tbody>\n",
       "</table>\n",
       "</div>"
      ],
      "text/plain": [
       "   rdt_id                              ns_lines  \\\n",
       "0   40500  Den Haag-Rotterdam; Leiden-Rotterdam   \n",
       "1   40501  Amsterdam-Utrecht; Utrecht-Eindhoven   \n",
       "2   40502              Schiphol-Rotterdam (HSL)   \n",
       "3   40503                       Eindhoven-Venlo   \n",
       "4   40504     Alkmaar-Den Helder; Alkmaar-Hoorn   \n",
       "\n",
       "                                           rdt_lines rdt_lines_id  \\\n",
       "0                   Den Haag HS - Rotterdam Centraal           11   \n",
       "1  's-Hertogenbosch - Utrecht Centraal, Amsterdam...      136,151   \n",
       "2        Rotterdam Centraal - Schiphol Airport (HSL)           24   \n",
       "3                                  Eindhoven - Venlo           65   \n",
       "4              Alkmaar - Den Helder, Alkmaar - Hoorn      162,163   \n",
       "\n",
       "                                   rdt_station_names  \\\n",
       "0  Delft,Delft Campus,Den Haag HS,Den Haag Moerwi...   \n",
       "1  Abcoude,Amsterdam Amstel,Amsterdam Bijlmer Are...   \n",
       "2                Rotterdam Centraal,Schiphol Airport   \n",
       "3                 Blerick,Deurne,Horst-Sevenum,Venlo   \n",
       "4                        Alkmaar Noord,Heerhugowaard   \n",
       "\n",
       "                                   rdt_station_codes              cause_nl  \\\n",
       "0                            DT, DTCP, GV, GVMW, RSW          brandmelding   \n",
       "1  AC, ASA, ASB, ASD, ASDM, ASHD, BKL, CL, DVD, G...  herstelwerkzaamheden   \n",
       "2                                           RTD, SHL          brandmelding   \n",
       "3                                    BR, DN, HRT, VL            aanrijding   \n",
       "4                                          AMRN, HWD            aanrijding   \n",
       "\n",
       "       cause_en  statistical_cause_nl statistical_cause_en       cause_group  \\\n",
       "0    fire alarm          brandmelding           fire alarm          external   \n",
       "1  repair works  herstelwerkzaamheden         repair works  engineering work   \n",
       "2    fire alarm          brandmelding           fire alarm          external   \n",
       "3     collision            aanrijding            collision         accidents   \n",
       "4     collision            aanrijding            collision         accidents   \n",
       "\n",
       "            start_time             end_time  duration_minutes  \n",
       "0  2022-01-01 05:45:33  2022-01-01 06:34:58              49.0  \n",
       "1  2022-01-01 06:23:54  2022-01-01 13:59:14             455.0  \n",
       "2  2022-01-01 06:33:40  2022-01-01 06:34:27               1.0  \n",
       "3  2022-01-01 07:31:39  2022-01-01 11:26:38             235.0  \n",
       "4  2022-01-01 07:32:32  2022-01-01 07:42:25              10.0  "
      ]
     },
     "execution_count": 99,
     "metadata": {},
     "output_type": "execute_result"
    }
   ],
   "source": [
    "disruptions = pd.read_csv('disruptions-2022.csv')\n",
    "disruptions.head()"
   ]
  },
  {
   "cell_type": "code",
   "execution_count": 100,
   "id": "c44e4338-997a-4f57-806c-eba4a0b3e826",
   "metadata": {},
   "outputs": [
    {
     "data": {
      "image/png": "[encoded data removed]",
      "text/plain": [
       "<Figure size 640x480 with 1 Axes>"
      ]
     },
     "metadata": {},
     "output_type": "display_data"
    }
   ],
   "source": [
    "def plot_nas(df: pd.DataFrame):\n",
    "    if df.isnull().sum().sum() != 0:\n",
    "        na_df = (df.isnull().sum() / len(df)) * 100      \n",
    "        na_df = na_df.drop(na_df[na_df == 0].index).sort_values(ascending=False)\n",
    "        missing_data = pd.DataFrame({'Missing Ratio %' :na_df})\n",
    "        missing_data.plot(kind = \"barh\")\n",
    "        plt.show()\n",
    "    else:\n",
    "        print('No NAs found')\n",
    "plot_nas(disruptions)"
   ]
  },
  {
   "cell_type": "code",
   "execution_count": 101,
   "id": "f34350f5-81ff-4983-83d7-cb9b23df4197",
   "metadata": {},
   "outputs": [],
   "source": [
    "def plot_bar_chart(label):\n",
    "    grouped_data = disruptions.groupby(label).size()\n",
    "    \n",
    "    # Plot the bar chart\n",
    "    grouped_data.plot(kind='bar', color='navajowhite', edgecolor='black')\n",
    "    \n",
    "    # Add labels and title\n",
    "    plt.xlabel(label)\n",
    "    plt.ylabel('Count')\n",
    "    plt.title('Distribution of ' + label)\n",
    "    \n",
    "    # Add percentages on top of each bar\n",
    "    total_count = len(disruptions)  # Total number of entries in the DataFrame\n",
    "    for i, value in enumerate(grouped_data):\n",
    "        percentage = (value / total_count) * 100\n",
    "        plt.text(i, value + 0.1, f'{percentage:.2f}%', ha='center', va='bottom', fontsize=8)\n",
    "    \n",
    "    # Show the plot\n",
    "    plt.show()"
   ]
  },
  {
   "cell_type": "code",
   "execution_count": 102,
   "id": "d1646ddf-0871-4a39-97d2-4b9b4dbd2a10",
   "metadata": {},
   "outputs": [],
   "source": [
    "disruptions.drop(\"cause_nl\", inplace = True, axis = 1)\n",
    "disruptions.drop(\"cause_en\", inplace = True, axis = 1)\n",
    "disruptions.drop(\"statistical_cause_nl\", inplace = True, axis = 1)\n",
    "disruptions.drop(\"statistical_cause_en\", inplace = True, axis = 1)\n",
    "disruptions.drop(\"rdt_id\", inplace = True, axis = 1)\n",
    "disruptions.drop(\"rdt_lines_id\", inplace = True, axis = 1)\n",
    "disruptions.drop(\"ns_lines\", inplace = True, axis = 1)"
   ]
  },
  {
   "cell_type": "code",
   "execution_count": 103,
   "id": "32312fd1-58e5-468c-8a9d-b670e22b525a",
   "metadata": {},
   "outputs": [
    {
     "data": {
      "text/html": [
       "<div>\n",
       "<style scoped>\n",
       "    .dataframe tbody tr th:only-of-type {\n",
       "        vertical-align: middle;\n",
       "    }\n",
       "\n",
       "    .dataframe tbody tr th {\n",
       "        vertical-align: top;\n",
       "    }\n",
       "\n",
       "    .dataframe thead th {\n",
       "        text-align: right;\n",
       "    }\n",
       "</style>\n",
       "<table border=\"1\" class=\"dataframe\">\n",
       "  <thead>\n",
       "    <tr style=\"text-align: right;\">\n",
       "      <th></th>\n",
       "      <th>rdt_lines</th>\n",
       "      <th>rdt_station_names</th>\n",
       "      <th>rdt_station_codes</th>\n",
       "      <th>cause_group</th>\n",
       "      <th>start_time</th>\n",
       "      <th>end_time</th>\n",
       "      <th>duration_minutes</th>\n",
       "    </tr>\n",
       "  </thead>\n",
       "  <tbody>\n",
       "    <tr>\n",
       "      <th>0</th>\n",
       "      <td>Den Haag HS - Rotterdam Centraal</td>\n",
       "      <td>Delft,Delft Campus,Den Haag HS,Den Haag Moerwi...</td>\n",
       "      <td>DT, DTCP, GV, GVMW, RSW</td>\n",
       "      <td>external</td>\n",
       "      <td>2022-01-01 05:45:33</td>\n",
       "      <td>2022-01-01 06:34:58</td>\n",
       "      <td>49.0</td>\n",
       "    </tr>\n",
       "    <tr>\n",
       "      <th>1</th>\n",
       "      <td>'s-Hertogenbosch - Utrecht Centraal, Amsterdam...</td>\n",
       "      <td>Abcoude,Amsterdam Amstel,Amsterdam Bijlmer Are...</td>\n",
       "      <td>AC, ASA, ASB, ASD, ASDM, ASHD, BKL, CL, DVD, G...</td>\n",
       "      <td>engineering work</td>\n",
       "      <td>2022-01-01 06:23:54</td>\n",
       "      <td>2022-01-01 13:59:14</td>\n",
       "      <td>455.0</td>\n",
       "    </tr>\n",
       "    <tr>\n",
       "      <th>2</th>\n",
       "      <td>Rotterdam Centraal - Schiphol Airport (HSL)</td>\n",
       "      <td>Rotterdam Centraal,Schiphol Airport</td>\n",
       "      <td>RTD, SHL</td>\n",
       "      <td>external</td>\n",
       "      <td>2022-01-01 06:33:40</td>\n",
       "      <td>2022-01-01 06:34:27</td>\n",
       "      <td>1.0</td>\n",
       "    </tr>\n",
       "    <tr>\n",
       "      <th>3</th>\n",
       "      <td>Eindhoven - Venlo</td>\n",
       "      <td>Blerick,Deurne,Horst-Sevenum,Venlo</td>\n",
       "      <td>BR, DN, HRT, VL</td>\n",
       "      <td>accidents</td>\n",
       "      <td>2022-01-01 07:31:39</td>\n",
       "      <td>2022-01-01 11:26:38</td>\n",
       "      <td>235.0</td>\n",
       "    </tr>\n",
       "    <tr>\n",
       "      <th>4</th>\n",
       "      <td>Alkmaar - Den Helder, Alkmaar - Hoorn</td>\n",
       "      <td>Alkmaar Noord,Heerhugowaard</td>\n",
       "      <td>AMRN, HWD</td>\n",
       "      <td>accidents</td>\n",
       "      <td>2022-01-01 07:32:32</td>\n",
       "      <td>2022-01-01 07:42:25</td>\n",
       "      <td>10.0</td>\n",
       "    </tr>\n",
       "  </tbody>\n",
       "</table>\n",
       "</div>"
      ],
      "text/plain": [
       "                                           rdt_lines  \\\n",
       "0                   Den Haag HS - Rotterdam Centraal   \n",
       "1  's-Hertogenbosch - Utrecht Centraal, Amsterdam...   \n",
       "2        Rotterdam Centraal - Schiphol Airport (HSL)   \n",
       "3                                  Eindhoven - Venlo   \n",
       "4              Alkmaar - Den Helder, Alkmaar - Hoorn   \n",
       "\n",
       "                                   rdt_station_names  \\\n",
       "0  Delft,Delft Campus,Den Haag HS,Den Haag Moerwi...   \n",
       "1  Abcoude,Amsterdam Amstel,Amsterdam Bijlmer Are...   \n",
       "2                Rotterdam Centraal,Schiphol Airport   \n",
       "3                 Blerick,Deurne,Horst-Sevenum,Venlo   \n",
       "4                        Alkmaar Noord,Heerhugowaard   \n",
       "\n",
       "                                   rdt_station_codes       cause_group  \\\n",
       "0                            DT, DTCP, GV, GVMW, RSW          external   \n",
       "1  AC, ASA, ASB, ASD, ASDM, ASHD, BKL, CL, DVD, G...  engineering work   \n",
       "2                                           RTD, SHL          external   \n",
       "3                                    BR, DN, HRT, VL         accidents   \n",
       "4                                          AMRN, HWD         accidents   \n",
       "\n",
       "            start_time             end_time  duration_minutes  \n",
       "0  2022-01-01 05:45:33  2022-01-01 06:34:58              49.0  \n",
       "1  2022-01-01 06:23:54  2022-01-01 13:59:14             455.0  \n",
       "2  2022-01-01 06:33:40  2022-01-01 06:34:27               1.0  \n",
       "3  2022-01-01 07:31:39  2022-01-01 11:26:38             235.0  \n",
       "4  2022-01-01 07:32:32  2022-01-01 07:42:25              10.0  "
      ]
     },
     "execution_count": 103,
     "metadata": {},
     "output_type": "execute_result"
    }
   ],
   "source": [
    "disruptions.head()"
   ]
  },
  {
   "cell_type": "code",
   "execution_count": 104,
   "id": "428019a7-298b-46a7-b2b3-40090dfcb276",
   "metadata": {},
   "outputs": [
    {
     "name": "stdout",
     "output_type": "stream",
     "text": [
      "3771\n"
     ]
    }
   ],
   "source": [
    "disruptions = disruptions[disruptions['duration_minutes'] > 20]\n",
    "print(len(disruptions))"
   ]
  },
  {
   "cell_type": "code",
   "execution_count": 105,
   "id": "4729578c-e7ca-4825-b360-be0fbdeb3d41",
   "metadata": {},
   "outputs": [],
   "source": [
    "values_to_remove = ['unknown', 'weather']\n",
    "disruptions['cause_group'] = disruptions['cause_group'].replace(values_to_remove, pd.NA)\n",
    "\n",
    "# Drop rows with NaN values in 'Railroad company' column\n",
    "disruptions = disruptions.dropna(subset=['cause_group'])"
   ]
  },
  {
   "cell_type": "code",
   "execution_count": 106,
   "id": "b00e1dde-6a39-4e9c-bde5-717ec403b771",
   "metadata": {},
   "outputs": [
    {
     "data": {
      "image/png": "[encoded data removed]",
      "text/plain": [
       "<Figure size 640x480 with 1 Axes>"
      ]
     },
     "metadata": {},
     "output_type": "display_data"
    }
   ],
   "source": [
    "plot_bar_chart('cause_group')"
   ]
  },
  {
   "cell_type": "code",
   "execution_count": 107,
   "id": "2ec2c2cf-d9a1-46a8-8733-34cc54205503",
   "metadata": {},
   "outputs": [],
   "source": [
    "disruptions = disruptions.dropna()"
   ]
  },
  {
   "cell_type": "markdown",
   "id": "a310630d-5796-4bf4-bc30-7279eb452da9",
   "metadata": {},
   "source": [
    "#### Taking ethical aspects into account\n",
    "##### Now as you can see from the bar chart above, almost 1 disruption out of 10 was caused by issues connected to the staff. \n",
    "\n",
    "The most logical step is, of course, to leave things as they are now, since more entries in the disruption dataset means more data for the model. \n",
    "\n",
    "__However, I believe that it would be unethical to include personell-caused disruptions.__\n",
    "Imagine the following situation: for example the Breda station is understuffed because part of the employees are striking for better working conditions. Therefore most of the disruptions occuring at the Breda station fall into the 'staff' category. The model sees that strikes cause severe disruptions, and therefore puts higher delay estimates for journeys that pass through Breda. \n",
    "From this point there could be a few scenarios how this could play out, for example the people who would use my future app see higher delays, and blame the strikers for causing them. As you can see, it is better to avoid such sensitive topic, so I think the best approach would be to remove all disruptions that are caused by NS employees."
   ]
  },
  {
   "cell_type": "code",
   "execution_count": 108,
   "id": "2e2578de-41cd-42a1-9c91-281315c683fe",
   "metadata": {},
   "outputs": [],
   "source": [
    "disruptions['cause_group'] = disruptions['cause_group'].replace(\"staff\", pd.NA)\n",
    "disruptions = disruptions.dropna(axis=0, subset=['cause_group'])"
   ]
  },
  {
   "cell_type": "markdown",
   "id": "c067aa86-6383-41f9-812c-d539588bcfa4",
   "metadata": {},
   "source": [
    "##### Final step: \n",
    "Removing all remaining NaN values"
   ]
  },
  {
   "cell_type": "code",
   "execution_count": 109,
   "id": "5657a837-1eed-4557-a3a7-8e3866786855",
   "metadata": {},
   "outputs": [],
   "source": [
    "disruptions = disruptions.dropna()"
   ]
  },
  {
   "cell_type": "code",
   "execution_count": 110,
   "id": "026e0790-7a88-4816-bac6-f59f8d773009",
   "metadata": {},
   "outputs": [],
   "source": [
    "disruptions.to_csv('preprocessed_data/disruptions_preprocessed.csv', index=False)"
   ]
  },
  {
   "cell_type": "code",
   "execution_count": 111,
   "id": "e96e3426-bd76-4583-b5e4-f115512a2396",
   "metadata": {},
   "outputs": [
    {
     "data": {
      "text/plain": [
       "rdt_lines             object\n",
       "rdt_station_names     object\n",
       "rdt_station_codes     object\n",
       "cause_group           object\n",
       "start_time            object\n",
       "end_time              object\n",
       "duration_minutes     float64\n",
       "dtype: object"
      ]
     },
     "execution_count": 111,
     "metadata": {},
     "output_type": "execute_result"
    }
   ],
   "source": [
    "disruptions.dtypes"
   ]
  },
  {
   "cell_type": "code",
   "execution_count": null,
   "id": "595a9f9a-58a5-4208-a8ee-3e3b9a44ec51",
   "metadata": {},
   "outputs": [],
   "source": []
  }
 ],
 "metadata": {
  "kernelspec": {
   "display_name": "Python 3 (ipykernel)",
   "language": "python",
   "name": "python3"
  },
  "language_info": {
   "codemirror_mode": {
    "name": "ipython",
    "version": 3
   },
   "file_extension": ".py",
   "mimetype": "text/x-python",
   "name": "python",
   "nbconvert_exporter": "python",
   "pygments_lexer": "ipython3",
   "version": "3.11.4"
  }
 },
 "nbformat": 4,
 "nbformat_minor": 5
}
