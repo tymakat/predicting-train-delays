{
 "cells": [
  {
   "cell_type": "markdown",
   "id": "214d66a5-ccf1-4bfb-840b-d3143de12aad",
   "metadata": {},
   "source": [
    "#### Introduction.\n",
    "Though there's still some things that I could improve in my dataset, I would like to proceed to the training part and see the initial results, as I believe that I've spent enough time on the data preprocessing already. \n",
    "Thus, I think a better approach would be to train the model(s) of choice on my dataset, compare the results, and if needed do even more data preprocessing.\n",
    "\n",
    "#### Training specifics\n",
    "The task that I've set to myself is quite compicated - I want to predict the estimated delay of the train, as well as the chance of cancellation. \n",
    "\n",
    "To be concrete, my aim is to predict the value of the following features:\n",
    "a) Is cancelled, which is a boolean variable\n",
    "b) Total delay, which is an integer\n",
    "\n",
    "As you can see this two features are so distinct from each other, that it is not even a multi-label classification problem, it is two different problems that I have to solve - binary classification (for \"Is_cancelled\") and regression (for \"Total delay\")\n",
    "\n",
    "#### So what to do then?\n",
    "\n",
    "The best approach is the simplest - treat this two features as two problems that have separate solution. Instead of trying to come up with a perfect model for both of the features, I would split my research into two parts - classification part and regression part.\n",
    "\n",
    "This means that from now on there would also be two different approaches to data preprocessing, model tuning, model research and so on.\n",
    "\n",
    "With that being said, let's proceed to the actual research\n"
   ]
  }
 ],
 "metadata": {
  "kernelspec": {
   "display_name": "Python 3 (ipykernel)",
   "language": "python",
   "name": "python3"
  },
  "language_info": {
   "codemirror_mode": {
    "name": "ipython",
    "version": 3
   },
   "file_extension": ".py",
   "mimetype": "text/x-python",
   "name": "python",
   "nbconvert_exporter": "python",
   "pygments_lexer": "ipython3",
   "version": "3.11.4"
  }
 },
 "nbformat": 4,
 "nbformat_minor": 5
}
