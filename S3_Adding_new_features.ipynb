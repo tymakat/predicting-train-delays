{
 "cells": [
  {
   "cell_type": "code",
   "execution_count": 2,
   "id": "d929f498-50f3-4375-8d1d-f10d74127be2",
   "metadata": {},
   "outputs": [],
   "source": [
    "import pandas as pd\n",
    "import numpy as np\n",
    "import matplotlib.pyplot as plt\n",
    "from datetime import datetime, date\n",
    "from pathlib import Path  \n",
    "from utils import filter_by_column_value, plot_range_pie"
   ]
  },
  {
   "cell_type": "code",
   "execution_count": 3,
   "id": "8af31cce-60b9-4a49-8822-561ea00d235c",
   "metadata": {},
   "outputs": [],
   "source": [
    "#enrich the dataset with as much features as possible before training (non-disruptions)\n",
    "dataset_pre = pd.read_csv('preprocessed_data/merged_journeys.csv')"
   ]
  },
  {
   "cell_type": "code",
   "execution_count": 4,
   "id": "01333dd5-ca61-4ab1-b29d-9166d329d22f",
   "metadata": {},
   "outputs": [
    {
     "data": {
      "text/html": [
       "<div>\n",
       "<style scoped>\n",
       "    .dataframe tbody tr th:only-of-type {\n",
       "        vertical-align: middle;\n",
       "    }\n",
       "\n",
       "    .dataframe tbody tr th {\n",
       "        vertical-align: top;\n",
       "    }\n",
       "\n",
       "    .dataframe thead th {\n",
       "        text-align: right;\n",
       "    }\n",
       "</style>\n",
       "<table border=\"1\" class=\"dataframe\">\n",
       "  <thead>\n",
       "    <tr style=\"text-align: right;\">\n",
       "      <th></th>\n",
       "      <th>Journey id</th>\n",
       "      <th>Train type</th>\n",
       "      <th>Departure station code</th>\n",
       "      <th>Arrival station code</th>\n",
       "      <th>Departure station name</th>\n",
       "      <th>Arrival station name</th>\n",
       "      <th>Departure time</th>\n",
       "      <th>Arrival time</th>\n",
       "      <th>Departure delay</th>\n",
       "      <th>Arrival delay</th>\n",
       "      <th>Part number</th>\n",
       "      <th>Cancelled</th>\n",
       "      <th>Departure platform changed</th>\n",
       "      <th>Arrival platform changed</th>\n",
       "    </tr>\n",
       "  </thead>\n",
       "  <tbody>\n",
       "    <tr>\n",
       "      <th>0</th>\n",
       "      <td>15086865</td>\n",
       "      <td>Intercity</td>\n",
       "      <td>RTD</td>\n",
       "      <td>DT</td>\n",
       "      <td>Rotterdam Centraal</td>\n",
       "      <td>Delft</td>\n",
       "      <td>2025-01-01T02:02:00+01:00</td>\n",
       "      <td>2025-01-01T02:12:00+01:00</td>\n",
       "      <td>0.0</td>\n",
       "      <td>1.0</td>\n",
       "      <td>1</td>\n",
       "      <td>0</td>\n",
       "      <td>False</td>\n",
       "      <td>False</td>\n",
       "    </tr>\n",
       "    <tr>\n",
       "      <th>1</th>\n",
       "      <td>15086865</td>\n",
       "      <td>Intercity</td>\n",
       "      <td>DT</td>\n",
       "      <td>GV</td>\n",
       "      <td>Delft</td>\n",
       "      <td>Den Haag HS</td>\n",
       "      <td>2025-01-01T02:12:00+01:00</td>\n",
       "      <td>2025-01-01T02:19:00+01:00</td>\n",
       "      <td>1.0</td>\n",
       "      <td>1.0</td>\n",
       "      <td>2</td>\n",
       "      <td>0</td>\n",
       "      <td>False</td>\n",
       "      <td>False</td>\n",
       "    </tr>\n",
       "    <tr>\n",
       "      <th>2</th>\n",
       "      <td>15086865</td>\n",
       "      <td>Intercity</td>\n",
       "      <td>GV</td>\n",
       "      <td>LEDN</td>\n",
       "      <td>Den Haag HS</td>\n",
       "      <td>Leiden Centraal</td>\n",
       "      <td>2025-01-01T02:22:00+01:00</td>\n",
       "      <td>2025-01-01T02:31:00+01:00</td>\n",
       "      <td>0.0</td>\n",
       "      <td>0.0</td>\n",
       "      <td>3</td>\n",
       "      <td>0</td>\n",
       "      <td>False</td>\n",
       "      <td>False</td>\n",
       "    </tr>\n",
       "    <tr>\n",
       "      <th>3</th>\n",
       "      <td>15086865</td>\n",
       "      <td>Intercity</td>\n",
       "      <td>LEDN</td>\n",
       "      <td>SHL</td>\n",
       "      <td>Leiden Centraal</td>\n",
       "      <td>Schiphol Airport</td>\n",
       "      <td>2025-01-01T02:33:00+01:00</td>\n",
       "      <td>2025-01-01T02:56:00+01:00</td>\n",
       "      <td>0.0</td>\n",
       "      <td>0.0</td>\n",
       "      <td>4</td>\n",
       "      <td>0</td>\n",
       "      <td>False</td>\n",
       "      <td>True</td>\n",
       "    </tr>\n",
       "    <tr>\n",
       "      <th>4</th>\n",
       "      <td>15086865</td>\n",
       "      <td>Intercity</td>\n",
       "      <td>SHL</td>\n",
       "      <td>ASS</td>\n",
       "      <td>Schiphol Airport</td>\n",
       "      <td>Amsterdam Sloterdijk</td>\n",
       "      <td>2025-01-01T02:59:00+01:00</td>\n",
       "      <td>2025-01-01T03:07:00+01:00</td>\n",
       "      <td>0.0</td>\n",
       "      <td>0.0</td>\n",
       "      <td>5</td>\n",
       "      <td>0</td>\n",
       "      <td>True</td>\n",
       "      <td>False</td>\n",
       "    </tr>\n",
       "  </tbody>\n",
       "</table>\n",
       "</div>"
      ],
      "text/plain": [
       "   Journey id Train type Departure station code Arrival station code  \\\n",
       "0    15086865  Intercity                    RTD                   DT   \n",
       "1    15086865  Intercity                     DT                   GV   \n",
       "2    15086865  Intercity                     GV                 LEDN   \n",
       "3    15086865  Intercity                   LEDN                  SHL   \n",
       "4    15086865  Intercity                    SHL                  ASS   \n",
       "\n",
       "  Departure station name  Arrival station name             Departure time  \\\n",
       "0     Rotterdam Centraal                 Delft  2025-01-01T02:02:00+01:00   \n",
       "1                  Delft           Den Haag HS  2025-01-01T02:12:00+01:00   \n",
       "2            Den Haag HS       Leiden Centraal  2025-01-01T02:22:00+01:00   \n",
       "3        Leiden Centraal      Schiphol Airport  2025-01-01T02:33:00+01:00   \n",
       "4       Schiphol Airport  Amsterdam Sloterdijk  2025-01-01T02:59:00+01:00   \n",
       "\n",
       "                Arrival time  Departure delay  Arrival delay  Part number  \\\n",
       "0  2025-01-01T02:12:00+01:00              0.0            1.0            1   \n",
       "1  2025-01-01T02:19:00+01:00              1.0            1.0            2   \n",
       "2  2025-01-01T02:31:00+01:00              0.0            0.0            3   \n",
       "3  2025-01-01T02:56:00+01:00              0.0            0.0            4   \n",
       "4  2025-01-01T03:07:00+01:00              0.0            0.0            5   \n",
       "\n",
       "   Cancelled  Departure platform changed  Arrival platform changed  \n",
       "0          0                       False                     False  \n",
       "1          0                       False                     False  \n",
       "2          0                       False                     False  \n",
       "3          0                       False                      True  \n",
       "4          0                        True                     False  "
      ]
     },
     "execution_count": 4,
     "metadata": {},
     "output_type": "execute_result"
    }
   ],
   "source": [
    "dataset_pre.head()"
   ]
  },
  {
   "cell_type": "code",
   "execution_count": 5,
   "id": "6da60638-1b80-49af-a9d9-5c0ed66c9fbc",
   "metadata": {},
   "outputs": [],
   "source": [
    "\n",
    "def add_new_weekday_feature(dataset):\n",
    "    new_weekday_feature = []\n",
    "    for idx, date_row in dataset.iterrows():\n",
    "        departure_time = datetime.fromisoformat(date_row[\"Departure time\"])\n",
    "        arrival_time = datetime.fromisoformat(date_row[\"Arrival time\"])\n",
    "        day_number_dep = departure_time.weekday()\n",
    "        day_number_arr = arrival_time.weekday()\n",
    "        if (day_number_dep == 6 and day_number_arr == 0):\n",
    "            new_weekday_feature.append(False)\n",
    "        elif (day_number_dep >= 5 and day_number_arr >= 5):\n",
    "            new_weekday_feature.append(True)\n",
    "        elif (day_number_dep < 5 and day_number_arr < 5):\n",
    "            new_weekday_feature.append(False)\n",
    "        else:\n",
    "            new_weekday_feature.append(True)\n",
    "    dataset['Is_weekend'] = new_weekday_feature\n",
    "    return dataset\n",
    "\n",
    "def check_if_date_is_peak_hour(hour, minute):\n",
    "    if ((hour == 6 and minute >= 30) or (6 < hour < 9) or (hour == 9 and minute == 0)):\n",
    "        return True\n",
    "    elif (hour == 16 or hour == 17):\n",
    "        return True\n",
    "    elif (hour == 18 and minute <= 30):\n",
    "        return True\n",
    "    return False\n",
    "\n",
    "def add_new_rush_hour_feature(dataset):\n",
    "    rush_hour_flags = []\n",
    "\n",
    "    for _, row in dataset.iterrows():\n",
    "        # Parse datetime\n",
    "        dep_time = row[\"Departure time\"]\n",
    "        arr_time = row[\"Arrival time\"]\n",
    "\n",
    "        if isinstance(dep_time, str):\n",
    "            dep_time = datetime.fromisoformat(dep_time)\n",
    "        if isinstance(arr_time, str):\n",
    "            arr_time = datetime.fromisoformat(arr_time)\n",
    "\n",
    "        # Only check for rush hour if it's a weekday (0 = Mon, 6 = Sun)\n",
    "        if dep_time.weekday() < 5 or arr_time.weekday() < 5:\n",
    "            dep_flag = check_if_date_is_peak_hour(dep_time.hour, dep_time.minute)\n",
    "            arr_flag = check_if_date_is_peak_hour(arr_time.hour, arr_time.minute)\n",
    "            rush_hour_flags.append(dep_flag or arr_flag)\n",
    "        else:\n",
    "            rush_hour_flags.append(False)\n",
    "\n",
    "    dataset[\"Is rush hour\"] = rush_hour_flags\n",
    "    return dataset\n",
    "\n",
    "def extract_holidays(dataset):\n",
    "    holiday_yes_or_no = []\n",
    "    list_with_holidays = [\n",
    "            '2023-01-01',   # New Year's Day\n",
    "            '2023-04-07',   # Good Friday\n",
    "            '2023-04-09',   # Easter Sunday\n",
    "            '2023-04-10',   # Easter Monday\n",
    "            '2023-04-27',   # King's Day\n",
    "            '2023-05-05',   # Liberation Day\n",
    "            '2023-05-18',   # Ascension Day\n",
    "            '2023-05-28',   # Whit Sunday\n",
    "            '2023-05-29',   # Whit Monday\n",
    "            '2023-12-25',   # Christmas Day\n",
    "            '2023-12-26',   # Second Christmas Day\n",
    "            '2024-01-01',   # New Year's Day\n",
    "            '2024-03-29',   # Good Friday\n",
    "            '2024-03-31',   # Easter Sunday\n",
    "            '2024-04-01',   # Easter Monday\n",
    "            '2024-04-27',   # King's Day\n",
    "            '2024-05-05',   # Liberation Day\n",
    "            '2024-05-09',   # Ascension Day\n",
    "            '2024-05-19',   # Whit Sunday\n",
    "            '2024-05-20',   # Whit Monday\n",
    "            '2024-12-25',   # Christmas Day\n",
    "            '2024-12-26',   # Second Christmas Day\n",
    "            '2025-01-01',   # New Year's Day\n",
    "            '2025-04-18',   # Good Friday\n",
    "            '2025-04-20',   # Easter Sunday\n",
    "            '2025-04-21',   # Easter Monday\n",
    "            '2025-04-26',   # King's Day\n",
    "            '2025-05-05',   # Liberation Day\n",
    "            '2025-05-29',   # Ascension Day\n",
    "            '2025-06-08',   # Whit Sunday\n",
    "            '2025-06-09',   # Whit Monday\n",
    "            '2025-12-25',   # Christmas Day\n",
    "            '2025-12-26',   # Second Christmas Day\n",
    "        ]\n",
    "    converted_holidays = {date.fromisoformat(d) for d in list_with_holidays}\n",
    "\n",
    "    for _, date_row in dataset.iterrows():\n",
    "        # Convert the 'Date' column to strings in the same format\n",
    "        departure_time = datetime.fromisoformat(date_row[\"Departure time\"])\n",
    "        arrival_time = datetime.fromisoformat(date_row[\"Arrival time\"])\n",
    "        # Create the 'Is_holiday' column based on the 'Date' column\n",
    "        holiday_yes_or_no.append(\n",
    "            departure_time.date() in converted_holidays or arrival_time.date() in converted_holidays\n",
    "        )   \n",
    "    dataset['Is_holiday'] = holiday_yes_or_no\n",
    "    # Create the 'Is_holiday' column based on the 'Date' column\n",
    "    return dataset\n",
    "    \n",
    "def data_preprocessing_main_dataset(dataset):\n",
    "    dataset = add_new_weekday_feature(dataset)\n",
    "    dataset = extract_holidays(dataset)\n",
    "    dataset = add_new_rush_hour_feature(dataset)\n",
    "    return dataset\n"
   ]
  },
  {
   "cell_type": "code",
   "execution_count": 6,
   "id": "5b75bc4c-07a7-42ce-8598-9ab5ba1db876",
   "metadata": {},
   "outputs": [],
   "source": [
    "dataset_pre = data_preprocessing_main_dataset(dataset_pre)"
   ]
  },
  {
   "cell_type": "code",
   "execution_count": 7,
   "id": "850bea9c-9cbd-4b77-850f-b48a313d74dc",
   "metadata": {},
   "outputs": [],
   "source": [
    "def plot_range_pie(df, column, ranges):\n",
    "    #create a pie chart to visualize different delay ranges in dataset\n",
    "    #to get an insight about the delays, to later evenly split it for classification.\n",
    "    total = len(df)\n",
    "\n",
    "    # counts per slice\n",
    "    counts = [df[column].between(lo, hi, inclusive=\"both\").sum()\n",
    "              for lo, hi in ranges]\n",
    "\n",
    "    # overall % per slice (share of ALL rows)\n",
    "    percentages = [cnt / total * 100 for cnt in counts]\n",
    "\n",
    "    # formatted strings: \"<range> - <percentage>, <occurrences>\"\n",
    "    summary_strings = [\n",
    "        f\"{lo}–{hi} - {pct:.1f}%, {cnt}\"\n",
    "        for (lo, hi), pct, cnt in zip(ranges, percentages, counts)\n",
    "    ]\n",
    "\n",
    "    # ------ PLOT -------\n",
    "    fig, ax = plt.subplots()\n",
    "    wedges, _, _ = ax.pie(\n",
    "        counts,\n",
    "        startangle=90,\n",
    "        autopct=lambda pct: f\"{pct:.1f}%\",  # keeps wedge labels\n",
    "        textprops={'weight': 'bold'}\n",
    "    )\n",
    "    ax.legend(\n",
    "        wedges,\n",
    "        [f\"{lo}–{hi}\" for lo, hi in ranges],\n",
    "        title=\"Ranges\",\n",
    "        loc=\"center left\",\n",
    "        bbox_to_anchor=(1, 0.5)\n",
    "    )\n",
    "    ax.set_title(f\"Distribution of '{column}' (N={total})\")\n",
    "    ax.axis(\"equal\")\n",
    "    plt.tight_layout()\n",
    "    plt.show()\n",
    "\n",
    "    # ------ PRINT LIST -------\n",
    "    for s in summary_strings:\n",
    "        print(s)\n",
    "\n",
    "    # also return it for programmatic use\n",
    "    return summary_strings"
   ]
  },
  {
   "cell_type": "code",
   "execution_count": 8,
   "id": "44d1bed3-02e2-4c90-9fe2-fdc3dfd9ca12",
   "metadata": {},
   "outputs": [
    {
     "data": {
      "text/html": [
       "<div>\n",
       "<style scoped>\n",
       "    .dataframe tbody tr th:only-of-type {\n",
       "        vertical-align: middle;\n",
       "    }\n",
       "\n",
       "    .dataframe tbody tr th {\n",
       "        vertical-align: top;\n",
       "    }\n",
       "\n",
       "    .dataframe thead th {\n",
       "        text-align: right;\n",
       "    }\n",
       "</style>\n",
       "<table border=\"1\" class=\"dataframe\">\n",
       "  <thead>\n",
       "    <tr style=\"text-align: right;\">\n",
       "      <th></th>\n",
       "      <th>Journey id</th>\n",
       "      <th>Train type</th>\n",
       "      <th>Departure station code</th>\n",
       "      <th>Arrival station code</th>\n",
       "      <th>Departure station name</th>\n",
       "      <th>Arrival station name</th>\n",
       "      <th>Departure time</th>\n",
       "      <th>Arrival time</th>\n",
       "      <th>Departure delay</th>\n",
       "      <th>Arrival delay</th>\n",
       "      <th>Part number</th>\n",
       "      <th>Cancelled</th>\n",
       "      <th>Departure platform changed</th>\n",
       "      <th>Arrival platform changed</th>\n",
       "      <th>Is_weekend</th>\n",
       "      <th>Is_holiday</th>\n",
       "      <th>Is rush hour</th>\n",
       "    </tr>\n",
       "  </thead>\n",
       "  <tbody>\n",
       "    <tr>\n",
       "      <th>0</th>\n",
       "      <td>15086865</td>\n",
       "      <td>Intercity</td>\n",
       "      <td>RTD</td>\n",
       "      <td>DT</td>\n",
       "      <td>Rotterdam Centraal</td>\n",
       "      <td>Delft</td>\n",
       "      <td>2025-01-01T02:02:00+01:00</td>\n",
       "      <td>2025-01-01T02:12:00+01:00</td>\n",
       "      <td>0.0</td>\n",
       "      <td>1.0</td>\n",
       "      <td>1</td>\n",
       "      <td>0</td>\n",
       "      <td>False</td>\n",
       "      <td>False</td>\n",
       "      <td>False</td>\n",
       "      <td>True</td>\n",
       "      <td>False</td>\n",
       "    </tr>\n",
       "    <tr>\n",
       "      <th>1</th>\n",
       "      <td>15086865</td>\n",
       "      <td>Intercity</td>\n",
       "      <td>DT</td>\n",
       "      <td>GV</td>\n",
       "      <td>Delft</td>\n",
       "      <td>Den Haag HS</td>\n",
       "      <td>2025-01-01T02:12:00+01:00</td>\n",
       "      <td>2025-01-01T02:19:00+01:00</td>\n",
       "      <td>1.0</td>\n",
       "      <td>1.0</td>\n",
       "      <td>2</td>\n",
       "      <td>0</td>\n",
       "      <td>False</td>\n",
       "      <td>False</td>\n",
       "      <td>False</td>\n",
       "      <td>True</td>\n",
       "      <td>False</td>\n",
       "    </tr>\n",
       "    <tr>\n",
       "      <th>2</th>\n",
       "      <td>15086865</td>\n",
       "      <td>Intercity</td>\n",
       "      <td>GV</td>\n",
       "      <td>LEDN</td>\n",
       "      <td>Den Haag HS</td>\n",
       "      <td>Leiden Centraal</td>\n",
       "      <td>2025-01-01T02:22:00+01:00</td>\n",
       "      <td>2025-01-01T02:31:00+01:00</td>\n",
       "      <td>0.0</td>\n",
       "      <td>0.0</td>\n",
       "      <td>3</td>\n",
       "      <td>0</td>\n",
       "      <td>False</td>\n",
       "      <td>False</td>\n",
       "      <td>False</td>\n",
       "      <td>True</td>\n",
       "      <td>False</td>\n",
       "    </tr>\n",
       "    <tr>\n",
       "      <th>3</th>\n",
       "      <td>15086865</td>\n",
       "      <td>Intercity</td>\n",
       "      <td>LEDN</td>\n",
       "      <td>SHL</td>\n",
       "      <td>Leiden Centraal</td>\n",
       "      <td>Schiphol Airport</td>\n",
       "      <td>2025-01-01T02:33:00+01:00</td>\n",
       "      <td>2025-01-01T02:56:00+01:00</td>\n",
       "      <td>0.0</td>\n",
       "      <td>0.0</td>\n",
       "      <td>4</td>\n",
       "      <td>0</td>\n",
       "      <td>False</td>\n",
       "      <td>True</td>\n",
       "      <td>False</td>\n",
       "      <td>True</td>\n",
       "      <td>False</td>\n",
       "    </tr>\n",
       "    <tr>\n",
       "      <th>4</th>\n",
       "      <td>15086865</td>\n",
       "      <td>Intercity</td>\n",
       "      <td>SHL</td>\n",
       "      <td>ASS</td>\n",
       "      <td>Schiphol Airport</td>\n",
       "      <td>Amsterdam Sloterdijk</td>\n",
       "      <td>2025-01-01T02:59:00+01:00</td>\n",
       "      <td>2025-01-01T03:07:00+01:00</td>\n",
       "      <td>0.0</td>\n",
       "      <td>0.0</td>\n",
       "      <td>5</td>\n",
       "      <td>0</td>\n",
       "      <td>True</td>\n",
       "      <td>False</td>\n",
       "      <td>False</td>\n",
       "      <td>True</td>\n",
       "      <td>False</td>\n",
       "    </tr>\n",
       "  </tbody>\n",
       "</table>\n",
       "</div>"
      ],
      "text/plain": [
       "   Journey id Train type Departure station code Arrival station code  \\\n",
       "0    15086865  Intercity                    RTD                   DT   \n",
       "1    15086865  Intercity                     DT                   GV   \n",
       "2    15086865  Intercity                     GV                 LEDN   \n",
       "3    15086865  Intercity                   LEDN                  SHL   \n",
       "4    15086865  Intercity                    SHL                  ASS   \n",
       "\n",
       "  Departure station name  Arrival station name             Departure time  \\\n",
       "0     Rotterdam Centraal                 Delft  2025-01-01T02:02:00+01:00   \n",
       "1                  Delft           Den Haag HS  2025-01-01T02:12:00+01:00   \n",
       "2            Den Haag HS       Leiden Centraal  2025-01-01T02:22:00+01:00   \n",
       "3        Leiden Centraal      Schiphol Airport  2025-01-01T02:33:00+01:00   \n",
       "4       Schiphol Airport  Amsterdam Sloterdijk  2025-01-01T02:59:00+01:00   \n",
       "\n",
       "                Arrival time  Departure delay  Arrival delay  Part number  \\\n",
       "0  2025-01-01T02:12:00+01:00              0.0            1.0            1   \n",
       "1  2025-01-01T02:19:00+01:00              1.0            1.0            2   \n",
       "2  2025-01-01T02:31:00+01:00              0.0            0.0            3   \n",
       "3  2025-01-01T02:56:00+01:00              0.0            0.0            4   \n",
       "4  2025-01-01T03:07:00+01:00              0.0            0.0            5   \n",
       "\n",
       "   Cancelled  Departure platform changed  Arrival platform changed  \\\n",
       "0          0                       False                     False   \n",
       "1          0                       False                     False   \n",
       "2          0                       False                     False   \n",
       "3          0                       False                      True   \n",
       "4          0                        True                     False   \n",
       "\n",
       "   Is_weekend  Is_holiday  Is rush hour  \n",
       "0       False        True         False  \n",
       "1       False        True         False  \n",
       "2       False        True         False  \n",
       "3       False        True         False  \n",
       "4       False        True         False  "
      ]
     },
     "execution_count": 8,
     "metadata": {},
     "output_type": "execute_result"
    }
   ],
   "source": [
    "dataset_pre.head()"
   ]
  },
  {
   "cell_type": "code",
   "execution_count": 9,
   "id": "46fc90a9-c232-4b7e-8ef0-29ab1113b7ac",
   "metadata": {},
   "outputs": [],
   "source": [
    "ranges = [(0, 0), (1, 1)]"
   ]
  },
  {
   "cell_type": "code",
   "execution_count": 10,
   "id": "1766e2c8-9801-4e68-8378-f8329d713d54",
   "metadata": {},
   "outputs": [
    {
     "data": {
      "image/png": "[encoded data removed]",
      "text/plain": [
       "<Figure size 432x288 with 1 Axes>"
      ]
     },
     "metadata": {},
     "output_type": "display_data"
    },
    {
     "name": "stdout",
     "output_type": "stream",
     "text": [
      "0–0 - 75.3%, 2343930\n",
      "1–1 - 24.7%, 767802\n"
     ]
    },
    {
     "data": {
      "text/plain": [
       "['0–0 - 75.3%, 2343930', '1–1 - 24.7%, 767802']"
      ]
     },
     "execution_count": 10,
     "metadata": {},
     "output_type": "execute_result"
    }
   ],
   "source": [
    "plot_range_pie(dataset_pre, \"Is_weekend\", ranges)"
   ]
  },
  {
   "cell_type": "code",
   "execution_count": 11,
   "id": "88b6ac48-fc62-480e-94c7-c87563282c97",
   "metadata": {},
   "outputs": [
    {
     "data": {
      "image/png": "[encoded data removed]",
      "text/plain": [
       "<Figure size 432x288 with 1 Axes>"
      ]
     },
     "metadata": {},
     "output_type": "display_data"
    },
    {
     "name": "stdout",
     "output_type": "stream",
     "text": [
      "0–0 - 99.2%, 3086356\n",
      "1–1 - 0.8%, 25376\n"
     ]
    },
    {
     "data": {
      "text/plain": [
       "['0–0 - 99.2%, 3086356', '1–1 - 0.8%, 25376']"
      ]
     },
     "execution_count": 11,
     "metadata": {},
     "output_type": "execute_result"
    }
   ],
   "source": [
    "plot_range_pie(dataset_pre, \"Is_holiday\", ranges)"
   ]
  },
  {
   "cell_type": "code",
   "execution_count": 12,
   "id": "9f3fee02-02fd-4b9e-b95c-79aeb8b43891",
   "metadata": {},
   "outputs": [
    {
     "data": {
      "image/png": "[encoded data removed]",
      "text/plain": [
       "<Figure size 432x288 with 1 Axes>"
      ]
     },
     "metadata": {},
     "output_type": "display_data"
    },
    {
     "name": "stdout",
     "output_type": "stream",
     "text": [
      "0–0 - 77.2%, 2401612\n",
      "1–1 - 22.8%, 710120\n"
     ]
    },
    {
     "data": {
      "text/plain": [
       "['0–0 - 77.2%, 2401612', '1–1 - 22.8%, 710120']"
      ]
     },
     "execution_count": 12,
     "metadata": {},
     "output_type": "execute_result"
    }
   ],
   "source": [
    "plot_range_pie(dataset_pre, \"Is rush hour\", ranges)"
   ]
  },
  {
   "cell_type": "code",
   "execution_count": 13,
   "id": "e6ca965c-8f96-4565-be73-f573dea0c620",
   "metadata": {},
   "outputs": [],
   "source": [
    "plot_delays_by_rush_hour = filter_by_column_value(dataset_pre, \"Is rush hour\", 1)"
   ]
  },
  {
   "cell_type": "code",
   "execution_count": 14,
   "id": "0a15cde3-cba1-453b-87e4-67dc30f92234",
   "metadata": {},
   "outputs": [],
   "source": [
    "test_ranges_1 = [(0,0), (1, 2), (3, 5), (6, 10), (11, 20), (21, 40), (41, 180), (180, 1001)]"
   ]
  },
  {
   "cell_type": "code",
   "execution_count": 16,
   "id": "6a0fea05-06c2-42db-b47d-104db74621ab",
   "metadata": {},
   "outputs": [
    {
     "data": {
      "image/png": "[encoded data removed]",
      "text/plain": [
       "<Figure size 432x288 with 1 Axes>"
      ]
     },
     "metadata": {},
     "output_type": "display_data"
    },
    {
     "name": "stdout",
     "output_type": "stream",
     "text": [
      "0–0 - 61.3%, 435054\n",
      "1–2 - 22.2%, 157884\n",
      "3–5 - 6.6%, 47023\n",
      "6–10 - 2.5%, 17703\n",
      "11–20 - 1.1%, 7617\n",
      "21–40 - 0.2%, 1314\n",
      "41–180 - 0.0%, 66\n",
      "180–1001 - 6.1%, 43459\n"
     ]
    },
    {
     "data": {
      "text/plain": [
       "['0–0 - 61.3%, 435054',\n",
       " '1–2 - 22.2%, 157884',\n",
       " '3–5 - 6.6%, 47023',\n",
       " '6–10 - 2.5%, 17703',\n",
       " '11–20 - 1.1%, 7617',\n",
       " '21–40 - 0.2%, 1314',\n",
       " '41–180 - 0.0%, 66',\n",
       " '180–1001 - 6.1%, 43459']"
      ]
     },
     "execution_count": 16,
     "metadata": {},
     "output_type": "execute_result"
    }
   ],
   "source": [
    "plot_range_pie(plot_delays_by_rush_hour, \"Arrival delay\", test_ranges_1)"
   ]
  },
  {
   "cell_type": "code",
   "execution_count": 25,
   "id": "b88751b0-2620-4efd-b0fe-7f86add11577",
   "metadata": {},
   "outputs": [],
   "source": [
    "plot_delays_by_day_of_week = filter_by_column_value(dataset_pre, \"Is_holiday\", 1)"
   ]
  },
  {
   "cell_type": "code",
   "execution_count": 27,
   "id": "6a9c572c-ed8b-4ea8-bfd0-bb64fa9aca89",
   "metadata": {},
   "outputs": [
    {
     "data": {
      "image/png": "[encoded data removed]",
      "text/plain": [
       "<Figure size 432x288 with 1 Axes>"
      ]
     },
     "metadata": {},
     "output_type": "display_data"
    },
    {
     "name": "stdout",
     "output_type": "stream",
     "text": [
      "0–0 - 59.7%, 15151\n",
      "1–2 - 19.7%, 4994\n",
      "3–5 - 6.5%, 1637\n",
      "6–10 - 2.8%, 715\n",
      "11–20 - 1.9%, 494\n",
      "21–40 - 0.4%, 102\n",
      "41–180 - 0.0%, 5\n",
      "180–1001 - 9.0%, 2278\n"
     ]
    },
    {
     "data": {
      "text/plain": [
       "['0–0 - 59.7%, 15151',\n",
       " '1–2 - 19.7%, 4994',\n",
       " '3–5 - 6.5%, 1637',\n",
       " '6–10 - 2.8%, 715',\n",
       " '11–20 - 1.9%, 494',\n",
       " '21–40 - 0.4%, 102',\n",
       " '41–180 - 0.0%, 5',\n",
       " '180–1001 - 9.0%, 2278']"
      ]
     },
     "execution_count": 27,
     "metadata": {},
     "output_type": "execute_result"
    }
   ],
   "source": [
    "plot_range_pie(plot_delays_by_day_of_week, \"Arrival delay\", test_ranges_1)"
   ]
  },
  {
   "cell_type": "markdown",
   "id": "6a8d7270-2f1d-4f66-9940-35a28d0a0662",
   "metadata": {},
   "source": [
    "## Conclusion\n",
    "All features are important to have in the dataset - as seen by delays, every feature directly impacts the delay time\n",
    "\n",
    "#### Weekends\n",
    "A bit less delays over weekends\n",
    "\n",
    "#### Holidays\n",
    "Much more cancellations on holidays, a bit more significant delays\n",
    "\n",
    "#### Rush hour\n",
    "More delays during rush hours, as predicted\n",
    "\n",
    "### Features that influence departure delay most:\n",
    "1. Departure platform changed\n",
    "2. Arrival platform changed\n",
    "3. Is holiday\n",
    "4. Is rush hour\n",
    "5. Train type\n",
    "6. Is weekend"
   ]
  },
  {
   "cell_type": "code",
   "execution_count": 38,
   "id": "6409a3e5-8de4-4b1b-9de6-e816c080e29c",
   "metadata": {},
   "outputs": [],
   "source": [
    "departure_platform_changed = filter_by_column_value(dataset_pre, \"Arrival platform changed\", 1)"
   ]
  },
  {
   "cell_type": "code",
   "execution_count": 41,
   "id": "29433228-a8fb-4b73-bec1-368d9a7314a2",
   "metadata": {},
   "outputs": [
    {
     "data": {
      "image/png": "[encoded data removed]",
      "text/plain": [
       "<Figure size 432x288 with 1 Axes>"
      ]
     },
     "metadata": {},
     "output_type": "display_data"
    },
    {
     "name": "stdout",
     "output_type": "stream",
     "text": [
      "0–0 - 57.1%, 60613\n",
      "1–2 - 19.9%, 21073\n",
      "3–5 - 7.5%, 7938\n",
      "6–10 - 5.0%, 5334\n",
      "11–20 - 3.6%, 3784\n",
      "21–40 - 0.8%, 865\n",
      "41–180 - 0.1%, 85\n",
      "180–1001 - 6.0%, 6373\n"
     ]
    },
    {
     "data": {
      "text/plain": [
       "['0–0 - 57.1%, 60613',\n",
       " '1–2 - 19.9%, 21073',\n",
       " '3–5 - 7.5%, 7938',\n",
       " '6–10 - 5.0%, 5334',\n",
       " '11–20 - 3.6%, 3784',\n",
       " '21–40 - 0.8%, 865',\n",
       " '41–180 - 0.1%, 85',\n",
       " '180–1001 - 6.0%, 6373']"
      ]
     },
     "execution_count": 41,
     "metadata": {},
     "output_type": "execute_result"
    }
   ],
   "source": [
    "plot_range_pie(departure_platform_changed, \"Departure delay\", test_ranges_1)"
   ]
  },
  {
   "cell_type": "code",
   "execution_count": 42,
   "id": "16999dda-0392-4c5b-b72d-cdc06807ec6a",
   "metadata": {},
   "outputs": [],
   "source": [
    "dataset_pre.to_csv('preprocessed_data/preprocessed_time_features_added.csv', index=False)"
   ]
  },
  {
   "cell_type": "code",
   "execution_count": null,
   "id": "fd774c80-be3f-402d-96c7-0a4cc9ea2082",
   "metadata": {},
   "outputs": [],
   "source": []
  }
 ],
 "metadata": {
  "kernelspec": {
   "display_name": "Python 3 (ipykernel)",
   "language": "python",
   "name": "python3"
  },
  "language_info": {
   "codemirror_mode": {
    "name": "ipython",
    "version": 3
   },
   "file_extension": ".py",
   "mimetype": "text/x-python",
   "name": "python",
   "nbconvert_exporter": "python",
   "pygments_lexer": "ipython3",
   "version": "3.10.12"
  }
 },
 "nbformat": 4,
 "nbformat_minor": 5
}
